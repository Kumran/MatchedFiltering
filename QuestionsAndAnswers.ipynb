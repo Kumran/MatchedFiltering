{
 "metadata": {
  "name": "",
  "signature": "sha256:080959b597c07e9f26fb495cd919ca1e569d5e934d2801eeb0262b26e19f032c"
 },
 "nbformat": 3,
 "nbformat_minor": 0,
 "worksheets": [
  {
   "cells": [
    {
     "cell_type": "markdown",
     "metadata": {},
     "source": [
      "# Listening to gravitational waves\n",
      "\n",
      "Q. Can you *hear* the features that you saw in the plot?\n",
      "\n",
      "A. Hopefully.  The important features are\n",
      "  - Start off quiet and deep\n",
      "  - Get louder and higher with time (a \"chirp\")\n",
      "  - Pop at the end, then silence\n",
      "\n",
      "Q. How do those features change as you change the mass?  Amplitude?  Frequency?  Rate of change of amplitude and frequency?\n",
      "\n",
      "A. The overall amplitude will increase with increasing mass, but the frequencies will be shifted down; both amplitude and frequency are simply scaled.\n",
      "\n",
      "Q. Can you hear or see any differences between spinning and non-spinning systems?\n",
      "\n",
      "A. Not really; if you plot one on top of the other, you see a little de-phasing.  But we will see that matched filtering can really tell the difference quite well.\n",
      "\n",
      "Q. What would happen if you changed the distance at which the system was located?\n",
      "\n",
      "A. Try it and see.  The command `NonspinningGW(5.0, 1.0)` produces a waveform of total mass $5\\,M_\\odot$ at a distance of $1\\,$Mpc.  The amplitude changes, but nothing else.  As with basically any form of radiation, the total energy passing through any sphere around the source is conserved, which means that the flux falls of as $1/r^2$.  And the energy is proportional to the amplitude squared, so the amplitude falls of as $1/r$."
     ]
    },
    {
     "cell_type": "markdown",
     "metadata": {},
     "source": [
      "# FFT of LIGO noise\n",
      "\n",
      "Q. Can you guess where the largest spike comes from?  [Hint: What is its frequency, and what else do you know that has that frequency?]\n",
      "\n",
      "A. The largest spike is at $60\\,$Hz, which is also the line frequency of the U.S. electrical system.  LIGO does everything it can to reduce the influence of this signal, but obviously, it is hard to eliminate.\n",
      "\n",
      "Q. There are several very narrow spikes -- just one pixel wide.  Do you know where they come from?\n",
      "\n",
      "A. These are intentionally generated in the detector as \"calibration peaks\".  They allow the experimenters to see how sensitive the instrument is at certain frequencies.\n",
      "\n",
      "Q. Other than the largest spike and the narrow spikes, there is another group of spikes.  Can you discern a pattern in them?\n",
      "\n",
      "A. There is a set of spikes starting around $345\\,$Hz, and found at integer multiples of that frequency.  These are called \"violin modes\", and are the resonant frequencies of LIGO's mirror mounts.  The multiple frequencies are harmonics of the fundamental.\n",
      "\n",
      "Q. If you ignore all the spikes, what general trends do you see?  Do you know what causes those trends?\n",
      "\n",
      "A. Other than spikes there are three basic trends in the data:\n",
      "\n",
      "  1. Going down below about $40\\,$Hz, the noise rises very steeply.  This is called the \"seismic wall\".  Unsurprisingly, it is caused by the earth's seismic motions.  In fact, the noise data set used in this notebook has been filtered below about $35\\,$Hz, because the noise at those frequencies would totally overwhelm everything else.\n",
      "  2. Above the seismic wall, the noise drops very slowly, reaching the minimum around $200\\,$Hz -- which is called the \"bucket\".  The noise in this range is caused by thermal fluctuations in the mirror and its mounts.\n",
      "  3. At higher frequencies, the noise slowly climbs again, indefinitely.  This is caused by \"shot noise\".  The detector is counting photons to take its data.  But if you want to know the data at a high frequency, you are measuring over a very short time of span.  But few photons arrive in very short spans of time, so the randomness in such measurements increases with increasing frequency."
     ]
    },
    {
     "cell_type": "markdown",
     "metadata": {},
     "source": [
      "# FFT of waveforms\n",
      "\n",
      "Q. When you listened to the gravitational wave, you heard that it was very quiet and deep in the beginning, and got louder and higher as time went on.  But if you look at the Fourier transform, it's bigger at low frequencies, and smaller at high frequencies.  How does this make sense?\n",
      "\n",
      "A. Even though the GW is smaller at low frequencies, it's also change its frequency very slowly.  It spends a lot of time at the low frequencies, so the FFT has longer to build up power.\n",
      "\n",
      "Q. How does the FFT of the waveform change as you change the mass?\n",
      "\n",
      "A. The FFT moves up and to the left as the mass is increased.  Up, because the amplitude increases.  (Imagine increasing the mass of your black holes; they're going to give off \"louder\" waves.)  To the left, because the frequency decreases.  (The main way we see the frequency is by looking at the ringdown drop-off.  Here, you can think of the black hole as acting like a drum; a larger and more massive drum gives a deeper sound.)\n",
      "\n",
      "Q. Compared to the noise, the waveform still isn't very big.  What would the FFT look like if we combined the waveform with the noise to simulate a real signal?\n",
      "\n",
      "A. The combined FFT would basically look like the sum of the noise and signal FFTs.  Fourier transforms are linear, so they would add.  Of course, we're looking at amplitudes, which don't add.  But roughly speaking, that's what it would look like.  Of course, it wouldn't be hard to actually plot the FFT of the combined waveform...\n",
      "\n",
      "Q. Would you be able to tell just from that signal if you were measuring a black-hole merger or just seeing a blip in the data?\n",
      "\n",
      "Lots of funny things can happen in a detector, and we can't just rely on our gut to say for sure if we saw something.  We need to use quantitative metrics and statistics.  And this is just what matched filtering is designed for.\n",
      "\n",
      "Q. Would you be able to tell the difference between a spinning and a non-spinning system?  Could you measure the mass?\n",
      "\n",
      "A. Just from looking at the data, we would not be able to tell spinning from non-spinning.  Looking at it in this simplified way, the mass could be degenerate with the distance to the system.  If the ringdown drop-off is visible, we can imagine measuring the mass, but if it's not, things would look degenerate.  Fortunately, matched filtering can break the degeneracy."
     ]
    },
    {
     "cell_type": "markdown",
     "metadata": {},
     "source": [
      "# Matched filtering\n",
      "\n",
      "Q. If you didn't know that we had injected a signal into the data, but you saw the plot above, how could you argue that you had observed a gravitational wave?\n",
      "\n",
      "A. Away from the spike, the data is more or less random.  But there's a certain distribution of that randomness.  If you can characterize the distribution (e.g., Gaussian or Poisson), you can decide what the chances of getting the spike are from pure chance.  If the chances are small enough, you might argue that you have detected a gravitational wave.\n",
      "\n",
      "Q. What happens if you leave the injected waveform in the simulated data the same, but change the template you use to search for it?\n",
      "\n",
      "A. The maximum match usually changes whenever you change the template.  By trying different values, you can find the maximum match over your parameters, which gives you an idea of what the signal contained.\n",
      "\n",
      "Q. Can you use the matched filter to tell whether a signal is spinning or non-spinning?\n",
      "\n",
      "A. If you change the `TemplateSignal` between `NonspinningGW` and `SpinningGW`, you typically see a big change in the match, which lets you decide whether the data contained a spinning or non-spinning signal.\n",
      "\n",
      "Q. Can you use it to find the mass of the signal?\n",
      "\n",
      "A. By changing the mass parameter in the `TemplateSignal`, you usually change the mass quite a lot.  But searching for the maximum match, you can usually get a very good estimate for the mass."
     ]
    },
    {
     "cell_type": "markdown",
     "metadata": {},
     "source": [
      "# Running a search\n",
      "\n",
      "Some simple python could help to automate the search, and narrow down the parameters to plot.  The following cell loops over the masses, and prints out the maximum match next to the mass for that mass."
     ]
    },
    {
     "cell_type": "code",
     "collapsed": false,
     "input": [
      "for m in arange(5.,105.,5.):\n",
      "    Match = abs(Utils.Match(UnknownData, NonspinningGW(m), LIGONoise))\n",
      "    print(max(Match), m)"
     ],
     "language": "python",
     "metadata": {},
     "outputs": []
    },
    {
     "cell_type": "markdown",
     "metadata": {},
     "source": [
      "But don't forget to try `SpinningGW` too!"
     ]
    }
   ],
   "metadata": {}
  }
 ]
}