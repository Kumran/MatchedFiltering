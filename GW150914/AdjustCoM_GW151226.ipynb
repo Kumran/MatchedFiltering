{
 "cells": [
  {
   "cell_type": "markdown",
   "metadata": {},
   "source": [
    "# Adjust center of mass position and velocity of simulation for GW150914"
   ]
  },
  {
   "cell_type": "code",
   "execution_count": 3,
   "metadata": {
    "collapsed": true
   },
   "outputs": [],
   "source": [
    "import scri\n",
    "import scri.SpEC\n",
    "import numpy as np\n",
    "\n",
    "data_dir = '/Users/boyle/Research/Data/SimulationAnnex/CatalogLinks/SXS:BBH:0317/Lev3/'"
   ]
  },
  {
   "cell_type": "code",
   "execution_count": 4,
   "metadata": {
    "collapsed": false
   },
   "outputs": [
    {
     "name": "stdout",
     "output_type": "stream",
     "text": [
      "Optimal x_i: [-0.04796393008437783, -0.03749570036059665, 0.0002546296438184966]\n",
      "Optimal v_i: [-2.3731089790623737e-06, 1.0909676453474665e-05, -4.251262320063484e-07]\n",
      "t_i, t_f: 165.5, 14917.0\n",
      "Optimal x_i: [-0.04796393008437783, -0.03749570036059665, 0.0002546296438184966]\n",
      "Optimal v_i: [-2.3731089790623737e-06, 1.0909676453474665e-05, -4.251262320063484e-07]\n",
      "t_i, t_f: 165.5, 14917.0\n",
      "Optimal x_i: [-0.04796393008437783, -0.03749570036059665, 0.0002546296438184966]\n",
      "Optimal v_i: [-2.3731089790623737e-06, 1.0909676453474665e-05, -4.251262320063484e-07]\n",
      "t_i, t_f: 165.5, 14917.0\n",
      "Optimal x_i: [-0.04796393008437783, -0.03749570036059665, 0.0002546296438184966]\n",
      "Optimal v_i: [-2.3731089790623737e-06, 1.0909676453474665e-05, -4.251262320063484e-07]\n",
      "t_i, t_f: 165.5, 14917.0\n"
     ]
    }
   ],
   "source": [
    "w_N2 = scri.SpEC.remove_avg_com_motion(data_dir + 'rhOverM_Asymptotic_GeometricUnits.h5/Extrapolated_N2.dir', file_write_mode='w')\n",
    "w_N3 = scri.SpEC.remove_avg_com_motion(data_dir + 'rhOverM_Asymptotic_GeometricUnits.h5/Extrapolated_N3.dir', file_write_mode='a')\n",
    "w_N4 = scri.SpEC.remove_avg_com_motion(data_dir + 'rhOverM_Asymptotic_GeometricUnits.h5/Extrapolated_N4.dir', file_write_mode='a')\n",
    "w_No = scri.SpEC.remove_avg_com_motion(data_dir + 'rhOverM_Asymptotic_GeometricUnits.h5/OutermostExtraction.dir', file_write_mode='a')"
   ]
  },
  {
   "cell_type": "code",
   "execution_count": null,
   "metadata": {
    "collapsed": true
   },
   "outputs": [],
   "source": []
  }
 ],
 "metadata": {
  "anaconda-cloud": {},
  "kernelspec": {
   "display_name": "Python [Root]",
   "language": "python",
   "name": "Python [Root]"
  },
  "language_info": {
   "codemirror_mode": {
    "name": "ipython",
    "version": 3
   },
   "file_extension": ".py",
   "mimetype": "text/x-python",
   "name": "python",
   "nbconvert_exporter": "python",
   "pygments_lexer": "ipython3",
   "version": "3.5.2"
  }
 },
 "nbformat": 4,
 "nbformat_minor": 0
}
