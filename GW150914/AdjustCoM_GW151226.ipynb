{
 "cells": [
  {
   "cell_type": "markdown",
   "metadata": {},
   "source": [
    "# Adjust center of mass position and velocity of simulation for GW150914"
   ]
  },
  {
   "cell_type": "code",
   "execution_count": 1,
   "metadata": {
    "collapsed": true
   },
   "outputs": [],
   "source": [
    "import scri\n",
    "import scri.SpEC\n",
    "import numpy as np\n",
    "\n",
    "data_dir = '/Users/boyle/Research/Data/SimulationAnnex/CatalogLinks/SXS:BBH:0004/Lev5/'"
   ]
  },
  {
   "cell_type": "code",
   "execution_count": 2,
   "metadata": {
    "collapsed": false
   },
   "outputs": [
    {
     "name": "stdout",
     "output_type": "stream",
     "text": [
      "Optimal x_i: [-0.00897213629574427, 0.007767085136840085, -2.3277052006023737e-09]\n",
      "Optimal v_i: [8.895747040355169e-06, -5.0372062716569e-06, 1.7223145877127712e-12]\n",
      "t_i, t_f: 116.0, 10474.0\n",
      "Optimal x_i: [-0.00897213629574427, 0.007767085136840085, -2.3277052006023737e-09]\n",
      "Optimal v_i: [8.895747040355169e-06, -5.0372062716569e-06, 1.7223145877127712e-12]\n",
      "t_i, t_f: 116.0, 10474.0\n",
      "Optimal x_i: [-0.00897213629574427, 0.007767085136840085, -2.3277052006023737e-09]\n",
      "Optimal v_i: [8.895747040355169e-06, -5.0372062716569e-06, 1.7223145877127712e-12]\n",
      "t_i, t_f: 116.0, 10474.0\n",
      "Optimal x_i: [-0.00897213629574427, 0.007767085136840085, -2.3277052006023737e-09]\n",
      "Optimal v_i: [8.895747040355169e-06, -5.0372062716569e-06, 1.7223145877127712e-12]\n",
      "t_i, t_f: 116.0, 10474.0\n"
     ]
    }
   ],
   "source": [
    "w_N2 = scri.SpEC.remove_avg_com_motion(data_dir + 'rhOverM_Asymptotic_GeometricUnits.h5/Extrapolated_N2.dir', file_write_mode='w')\n",
    "w_N3 = scri.SpEC.remove_avg_com_motion(data_dir + 'rhOverM_Asymptotic_GeometricUnits.h5/Extrapolated_N3.dir', file_write_mode='a')\n",
    "w_N4 = scri.SpEC.remove_avg_com_motion(data_dir + 'rhOverM_Asymptotic_GeometricUnits.h5/Extrapolated_N4.dir', file_write_mode='a')\n",
    "w_No = scri.SpEC.remove_avg_com_motion(data_dir + 'rhOverM_Asymptotic_GeometricUnits.h5/OutermostExtraction.dir', file_write_mode='a')"
   ]
  },
  {
   "cell_type": "code",
   "execution_count": null,
   "metadata": {
    "collapsed": true
   },
   "outputs": [],
   "source": []
  }
 ],
 "metadata": {
  "kernelspec": {
   "display_name": "Python [Root]",
   "language": "python",
   "name": "Python [Root]"
  },
  "language_info": {
   "codemirror_mode": {
    "name": "ipython",
    "version": 3
   },
   "file_extension": ".py",
   "mimetype": "text/x-python",
   "name": "python",
   "nbconvert_exporter": "python",
   "pygments_lexer": "ipython3",
   "version": "3.5.2"
  }
 },
 "nbformat": 4,
 "nbformat_minor": 0
}
