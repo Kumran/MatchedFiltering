{
 "cells": [
  {
   "cell_type": "markdown",
   "metadata": {},
   "source": [
    "# Adjust center of mass position and velocity of simulation for GW150914"
   ]
  },
  {
   "cell_type": "code",
   "execution_count": 1,
   "metadata": {
    "collapsed": true
   },
   "outputs": [],
   "source": [
    "import scri\n",
    "import scri.SpEC\n",
    "import numpy as np\n",
    "\n",
    "data_dir = '/Users/boyle/Research/Data/SimulationAnnex/Incoming/BBH_SKS_d13.4_q1.23_sA_0_0_0.320_sB_0_0_-0.580/Lev5/'"
   ]
  },
  {
   "cell_type": "code",
   "execution_count": 4,
   "metadata": {
    "collapsed": false
   },
   "outputs": [
    {
     "name": "stdout",
     "output_type": "stream",
     "text": [
      "Optimal x_i: [0.0254846374656213, -0.051270560984526176, 3.328532865089032e-06]\n",
      "Optimal v_i: [-1.4420901467875399e-06, 6.341746857347185e-06, -3.412200633855404e-08]\n",
      "t_i, t_f: 28.0, 2544.5\n",
      "Optimal x_i: [0.0254846374656213, -0.051270560984526176, 3.328532865089032e-06]\n",
      "Optimal v_i: [-1.4420901467875399e-06, 6.341746857347185e-06, -3.412200633855404e-08]\n",
      "t_i, t_f: 28.0, 2544.5\n",
      "Optimal x_i: [0.0254846374656213, -0.051270560984526176, 3.328532865089032e-06]\n",
      "Optimal v_i: [-1.4420901467875399e-06, 6.341746857347185e-06, -3.412200633855404e-08]\n",
      "t_i, t_f: 28.0, 2544.5\n",
      "Optimal x_i: [0.0254846374656213, -0.051270560984526176, 3.328532865089032e-06]\n",
      "Optimal v_i: [-1.4420901467875399e-06, 6.341746857347185e-06, -3.412200633855404e-08]\n",
      "t_i, t_f: 28.0, 2544.5\n"
     ]
    }
   ],
   "source": [
    "w_N2 = scri.SpEC.remove_avg_com_motion(data_dir + 'rhOverM_Asymptotic_GeometricUnits.h5/Extrapolated_N2.dir', file_write_mode='w')\n",
    "w_N3 = scri.SpEC.remove_avg_com_motion(data_dir + 'rhOverM_Asymptotic_GeometricUnits.h5/Extrapolated_N3.dir', file_write_mode='a')\n",
    "w_N4 = scri.SpEC.remove_avg_com_motion(data_dir + 'rhOverM_Asymptotic_GeometricUnits.h5/Extrapolated_N4.dir', file_write_mode='a')\n",
    "w_No = scri.SpEC.remove_avg_com_motion(data_dir + 'rhOverM_Asymptotic_GeometricUnits.h5/OutermostExtraction.dir', file_write_mode='a')"
   ]
  },
  {
   "cell_type": "markdown",
   "metadata": {},
   "source": [
    "Those displacements look pretty large.  I wonder how far the system wanders..."
   ]
  },
  {
   "cell_type": "code",
   "execution_count": 8,
   "metadata": {
    "collapsed": false
   },
   "outputs": [
    {
     "name": "stdout",
     "output_type": "stream",
     "text": [
      "[  2.11963989e-02  -3.24125695e-02  -9.81375961e-05]\n",
      "0.0387281760237\n"
     ]
    }
   ],
   "source": [
    "x_i = np.array([0.0254846374656213, -0.051270560984526176, 3.328532865089032e-06])\n",
    "v_i = np.array([-1.4420901467875399e-06, 6.341746857347185e-06, -3.412200633855404e-08])\n",
    "\n",
    "x_f = x_i + w_No.t[-1]*v_i\n",
    "print(x_f)\n",
    "print(np.linalg.norm(x_f))"
   ]
  },
  {
   "cell_type": "markdown",
   "metadata": {},
   "source": [
    "That's not very far.  I guess it's not a very long simulation..."
   ]
  },
  {
   "cell_type": "code",
   "execution_count": 9,
   "metadata": {
    "collapsed": false
   },
   "outputs": [
    {
     "data": {
      "text/plain": [
       "2973.627282174964"
      ]
     },
     "execution_count": 9,
     "metadata": {},
     "output_type": "execute_result"
    }
   ],
   "source": [
    "w_No.t[-1]"
   ]
  },
  {
   "cell_type": "markdown",
   "metadata": {},
   "source": [
    "Indeed it's pretty short, so the system doesn't get very far.  I start to worry when we need to be careful with higher modes, or when the displacements are a few times larger than this."
   ]
  },
  {
   "cell_type": "code",
   "execution_count": 14,
   "metadata": {
    "collapsed": true
   },
   "outputs": [],
   "source": [
    "scri.SpEC.metadata.read_metadata_into_object?"
   ]
  },
  {
   "cell_type": "code",
   "execution_count": null,
   "metadata": {
    "collapsed": true
   },
   "outputs": [],
   "source": []
  }
 ],
 "metadata": {
  "kernelspec": {
   "display_name": "Python [Root]",
   "language": "python",
   "name": "Python [Root]"
  },
  "language_info": {
   "codemirror_mode": {
    "name": "ipython",
    "version": 3
   },
   "file_extension": ".py",
   "mimetype": "text/x-python",
   "name": "python",
   "nbconvert_exporter": "python",
   "pygments_lexer": "ipython3",
   "version": "3.5.2"
  }
 },
 "nbformat": 4,
 "nbformat_minor": 0
}
