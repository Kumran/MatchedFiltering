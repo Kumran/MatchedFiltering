{
 "cells": [
  {
   "cell_type": "markdown",
   "metadata": {
    "slideshow": {
     "slide_type": "skip"
    }
   },
   "source": [
    "***NOTE:*** This assumes that [RISE](https://github.com/damianavila/RISE) is installed.  If so, just click the bar chart in the toolbar above, and the presentation should begin.  Note that in edit mode, you can easily change some slide types of cells below, with\n",
    "\n",
    " * `shift-i` : toggle slide\n",
    " * `shift-b` : toggle subslide\n",
    " * `shift-g` : toggle fragment\n"
   ]
  },
  {
   "cell_type": "markdown",
   "metadata": {
    "slideshow": {
     "slide_type": "slide"
    }
   },
   "source": [
    "# Gravitational-wave astronomy with real data\n",
    "\n",
    "## Matched filtering"
   ]
  },
  {
   "cell_type": "markdown",
   "metadata": {
    "slideshow": {
     "slide_type": "slide"
    }
   },
   "source": [
    "# Introduction\n",
    "\n",
    "  - Gravitational waves (GWs) are like sound waves\n",
    "    - GW medium is spacetime itself (no matter needed)\n",
    "    - Transverse rather than longitudinal"
   ]
  },
  {
   "cell_type": "markdown",
   "metadata": {
    "slideshow": {
     "slide_type": "fragment"
    }
   },
   "source": [
    "  - LIGO is an enormous microphone\n",
    "    - We could actually hear (very loud) GWs with our own ears\n",
    "    - We can (and will!) hear LIGO data"
   ]
  },
  {
   "cell_type": "markdown",
   "metadata": {
    "slideshow": {
     "slide_type": "fragment"
    }
   },
   "source": [
    "  - But there’s a lot of noise\n",
    "    - Earthquakes, storms, logging, traffic, shotguns"
   ]
  },
  {
   "cell_type": "markdown",
   "metadata": {
    "slideshow": {
     "slide_type": "fragment"
    }
   },
   "source": [
    "  - We need a good way of digging signal out of the noise"
   ]
  },
  {
   "cell_type": "markdown",
   "metadata": {
    "slideshow": {
     "slide_type": "slide"
    }
   },
   "source": [
    "# Outline\n",
    "\n",
    "Overtly:\n",
    "  - Sounds of gravitational waves\n",
    "  - Sounds of LIGO\n",
    "  - FFTs\n",
    "  - Matched filtering\n",
    "\n",
    "Covertly:\n",
    "  - Data analysis\n",
    "  - Python\n",
    "  - Jupyter notebook (formerly IPython notebook)\n",
    "  - Github"
   ]
  },
  {
   "cell_type": "markdown",
   "metadata": {
    "slideshow": {
     "slide_type": "notes"
    }
   },
   "source": [
    "The ostensible purpose of this talk is to introduce you to matched filtering, which is the basic method that GW detectors use in searching for and measuring GW signals.  But that's a pretty narrow purpose, and most of you will not get involved in GWs.  So I want to also give you some exposure to a few other ideas that hopefully will have more broad application to all of you when you go into other fields.  And we'll use matched-filtering as a way into those other ideas."
   ]
  },
  {
   "cell_type": "markdown",
   "metadata": {
    "slideshow": {
     "slide_type": "notes"
    }
   },
   "source": [
    "So ostensibly, the outline of this activity starts off with introducing you to the sounds of GWs.  I'll make this analogy that LIGO is just an extraordinary microphone, and we'll listen to the sounds a GW makes, and the sounds of the LIGO instrument itself.  Then, we'll see that FFTs are a really powerful way of analyzing these sounds, and matched filtering is a really sensitive way of measuring those FFTs.\n",
    "\n",
    "But of course, while we're doing that, I also want to give you a little flavor of data analysis.  Pretty much all of you either are working on or will work on data analysis at some point, and there are some very general rules and ideas that can be applied to basically any type of data analysis.  So I'll want to use this stuff as a sort of analogy for other types of data analysis, so hopefully you can apply these principles to your own work."
   ]
  },
  {
   "cell_type": "markdown",
   "metadata": {
    "slideshow": {
     "slide_type": "slide"
    }
   },
   "source": [
    "# Jupyter notebooks\n",
    "\n",
    "<br /><br />\n",
    "\n",
    "  - Like Mathematica, but better\n",
    "  - Runs a live session of python (or basically any other language)\n",
    "  - Manipulate files, write code, interact with data, make plots, take notes, give presentations, ...\n",
    "\n",
    "\n",
    "  - You don't need to know python\n",
    "  - Put cursor in grey boxes and hit Shift-Enter"
   ]
  },
  {
   "cell_type": "markdown",
   "metadata": {
    "slideshow": {
     "slide_type": "notes"
    }
   },
   "source": [
    "So first, I just want to introduce how we're working here.  Who here has used python before?\n",
    "\n",
    "Python is really dynamic, and powerful, but also a lot simpler than most other languages.  It's not always the fastest at any computation, but since most of your time is spent writing programs (rather than running them), that's not usually a big problem.  And new developments are making python just as fast as even C/C++ in a lot of cases.\n",
    "\n",
    "Now, we throw in the Jupyter notebook.  Who here has used Mathematica before?\n",
    "\n",
    "Well the Jupyter notebook looks and acts like a nice version of Mathematica.  The notebook is connected to a live session of python.  It has these code cells that you run, and you can see the results.  So click on the first cell, and hit Shift+Enter.\n",
    "\n",
    "Mathematica is better at symbolic math (for now).  But otherwise, python is more useful and general.  And the Jupyter notebook makes it better at interactive stuff.  So here's my unsolicited advice: if you're deciding what programming language to learn, go with python.  There are nerdier options out there, but not many more broadly useful options.  And if you're using python interactively, you'll want to us Jupyter (which is just a different interface) or -- better yet -- the Jupyter notebook."
   ]
  },
  {
   "cell_type": "markdown",
   "metadata": {
    "slideshow": {
     "slide_type": "slide"
    }
   },
   "source": [
    "# (Discrete) Fourier transforms\n",
    "\n",
    "<br /><br />\n",
    "\n",
    "$$\n",
    "s(t) = \\sum_{f_i} \\left[ \\tilde{s}_{f_i}\\, \\sin (2\\,\\pi\\,f_i\\,t + \\phi_i) \\right]\n",
    "$$\n",
    "\n",
    "Discrete frequencies: $f_i$\n",
    "\n",
    "FT amplitude: $\\tilde{s}_{f_i}$\n",
    "\n",
    "FT phase: $\\phi_{f_i}$"
   ]
  },
  {
   "cell_type": "markdown",
   "metadata": {
    "slideshow": {
     "slide_type": "slide"
    }
   },
   "source": [
    "# Matched filtering"
   ]
  },
  {
   "cell_type": "markdown",
   "metadata": {},
   "source": [
    "<img src=\"files/70sEqualizer.jpg\" width=\"900px\">"
   ]
  },
  {
   "cell_type": "markdown",
   "metadata": {
    "slideshow": {
     "slide_type": "slide"
    }
   },
   "source": [
    "$$\n",
    "  {\\tilde{d}_{f_{i}}\\, \\tilde{s}_{f_{i}}}\n",
    "$$"
   ]
  },
  {
   "cell_type": "markdown",
   "metadata": {
    "slideshow": {
     "slide_type": "slide"
    }
   },
   "source": [
    "$$\n",
    "  \\frac{\\tilde{d}_{f_{i}}\\, \\tilde{s}_{f_{i}}} {\\tilde{n}_{f_{i}}^{2}}\n",
    "$$"
   ]
  },
  {
   "cell_type": "markdown",
   "metadata": {
    "slideshow": {
     "slide_type": "slide"
    }
   },
   "source": [
    "$$\n",
    "  \\frac{\\tilde{d}_{f_{i}}\\, \\tilde{s}_{f_{i}}} {\\tilde{n}_{f_{i}}^{2}}\\,\n",
    "  \\cos \\left[ \\delta\\phi_{f_i} \\right]\n",
    "$$"
   ]
  },
  {
   "cell_type": "markdown",
   "metadata": {
    "slideshow": {
     "slide_type": "slide"
    }
   },
   "source": [
    "$$\n",
    "  \\frac{\\tilde{d}_{f_{i}}\\, \\tilde{s}_{f_{i}}} {\\tilde{n}_{f_{i}}^{2}}\\,\n",
    "  \\cos \\left[ \\delta\\phi_{f_i} + f_{i}\\, \\delta t \\right]\n",
    "$$"
   ]
  },
  {
   "cell_type": "markdown",
   "metadata": {
    "slideshow": {
     "slide_type": "slide"
    }
   },
   "source": [
    "$$\n",
    "  \\sum_{f_{i}} \\frac{\\tilde{d}_{f_{i}}\\, \\tilde{s}_{f_{i}}} {\\tilde{n}_{f_{i}}^{2}}\\,\n",
    "  \\cos \\left[ \\delta\\phi_{f_i} + f_{i}\\, \\delta t \\right]\n",
    "$$"
   ]
  },
  {
   "cell_type": "markdown",
   "metadata": {
    "slideshow": {
     "slide_type": "slide"
    }
   },
   "source": [
    "$$\n",
    "  \\big\\langle d \\big| s \\big\\rangle_{\\delta t}\n",
    "  = \\sum_{f_{i}} \\frac{\\tilde{d}_{f_{i}}\\, \\tilde{s}_{f_{i}}} {\\tilde{n}_{f_{i}}^{2}}\\,\n",
    "  \\cos \\left[ \\delta\\phi_{f_i} + f_{i}\\, \\delta t \\right]\n",
    "$$"
   ]
  },
  {
   "cell_type": "markdown",
   "metadata": {
    "slideshow": {
     "slide_type": "slide"
    }
   },
   "source": [
    "# Matched filtering\n",
    "\n",
    "<br /><br />\n",
    "\n",
    "$$\n",
    "  \\big\\langle d \\big| s \\big\\rangle_{\\delta t}\n",
    "  = \\sum_{f_{i}} \\frac{\\tilde{d}_{f_{i}}\\, \\tilde{s}_{f_{i}}} {\\tilde{n}_{f_{i}}^{2}}\\,\n",
    "  \\cos \\left[ \\delta\\phi_{f_i} + f_{i}\\, \\delta t \\right]\n",
    "$$\n",
    "\n",
    "Think of this as either\n",
    "\n",
    "  - Filtering the data\n",
    "  - Taking the projection of the signal vector with the data vector"
   ]
  },
  {
   "cell_type": "markdown",
   "metadata": {
    "slideshow": {
     "slide_type": "notes"
    }
   },
   "source": [
    "Fourier series are vectors; Fourier space is a vector space.\n",
    "\n",
    "We've provided the vector space with a \"dot product\" (which makes it into a Hilbert space).\n",
    "\n",
    "The dot product accounts for different amounts of noise in the different vector components.\n",
    "\n",
    "Matched filtering is taking a signal vector and measuring its projection along a template vector."
   ]
  },
  {
   "cell_type": "markdown",
   "metadata": {
    "slideshow": {
     "slide_type": "slide"
    }
   },
   "source": [
    "# Conclusions\n",
    "\n",
    "Matched filtering:\n",
    "\n",
    "  - Current GW detectors are like giant microphones\n",
    "  - There's lots of noise\n",
    "  - So we filter the data and test for signals"
   ]
  },
  {
   "cell_type": "markdown",
   "metadata": {
    "slideshow": {
     "slide_type": "slide"
    }
   },
   "source": [
    "# Conclusions\n",
    "\n",
    "Data analysis:\n",
    "\n",
    "  - FFTs are great for time series (any periodic signal)\n",
    "  - Python and Jupyter notebooks are really useful\n",
    "  - Look at your data in as many ways as possible\n",
    "  - Don't blindly trust hand-me-down algorithms\n",
    "  - Don't blindly trust your results\n",
    "    - Think about whether they make sense\n",
    "    - Understand all the features\n",
    "    - Things you don't understand may lead to discovery"
   ]
  },
  {
   "cell_type": "markdown",
   "metadata": {
    "slideshow": {
     "slide_type": "slide"
    }
   },
   "source": [
    "# github.com/moble/MatchedFiltering"
   ]
  },
  {
   "cell_type": "code",
   "execution_count": null,
   "metadata": {
    "slideshow": {
     "slide_type": "skip"
    }
   },
   "outputs": [],
   "source": []
  }
 ],
 "metadata": {
  "celltoolbar": "Slideshow",
  "kernelspec": {
   "display_name": "Python 3",
   "language": "python",
   "name": "python3"
  },
  "language_info": {
   "codemirror_mode": {
    "name": "ipython",
    "version": 3
   },
   "file_extension": ".py",
   "mimetype": "text/x-python",
   "name": "python",
   "nbconvert_exporter": "python",
   "pygments_lexer": "ipython3",
   "version": "3.6.8"
  },
  "toc": {
   "colors": {
    "hover_highlight": "#DAA520",
    "navigate_num": "#000000",
    "navigate_text": "#333333",
    "running_highlight": "#FF0000",
    "selected_highlight": "#FFD700",
    "sidebar_border": "#EEEEEE",
    "wrapper_background": "#FFFFFF"
   },
   "moveMenuLeft": true,
   "nav_menu": {
    "height": "156px",
    "width": "252px"
   },
   "navigate_menu": true,
   "number_sections": true,
   "sideBar": true,
   "threshold": 4,
   "toc_cell": false,
   "toc_section_display": "block",
   "toc_window_display": false,
   "widenNotebook": false
  }
 },
 "nbformat": 4,
 "nbformat_minor": 1
}
