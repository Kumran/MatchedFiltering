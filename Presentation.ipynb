{
 "metadata": {
  "celltoolbar": "Slideshow",
  "name": "",
  "signature": "sha256:fac16f7edf63e02c8aa8d611704fe166d2688d1fa80030d2c91c63de2194c38a"
 },
 "nbformat": 3,
 "nbformat_minor": 0,
 "worksheets": [
  {
   "cells": [
    {
     "cell_type": "markdown",
     "metadata": {
      "slideshow": {
       "slide_type": "slide"
      }
     },
     "source": [
      "# Finding GWs in LIGO data\n",
      "\n",
      "## Matched filtering"
     ]
    },
    {
     "cell_type": "markdown",
     "metadata": {
      "slideshow": {
       "slide_type": "slide"
      }
     },
     "source": [
      "#Introduction\n",
      "\n",
      "  - Gravitational waves are like sound waves\n",
      "    - GW medium is spacetime itself (no matter needed)\n",
      "    - Transverse rather than longitudinal"
     ]
    },
    {
     "cell_type": "markdown",
     "metadata": {
      "slideshow": {
       "slide_type": "fragment"
      }
     },
     "source": [
      "  - LIGO is an enormous microphone\n",
      "    - We could actually hear (very loud) GWs with our own ears\n",
      "    - We can (and will!) hear LIGO data"
     ]
    },
    {
     "cell_type": "markdown",
     "metadata": {
      "slideshow": {
       "slide_type": "fragment"
      }
     },
     "source": [
      "  - But there\u2019s a lot of noise\n",
      "    - Earthquakes, storms, logging, traffic, shotguns"
     ]
    },
    {
     "cell_type": "markdown",
     "metadata": {
      "slideshow": {
       "slide_type": "fragment"
      }
     },
     "source": [
      "  - We need a good way of digging signal out of the noise"
     ]
    },
    {
     "cell_type": "markdown",
     "metadata": {
      "slideshow": {
       "slide_type": "slide"
      }
     },
     "source": [
      "# Outline\n",
      "\n",
      "Ostensibly:\n",
      "\n",
      "  - Sounds of gravitational waves\n",
      "  - Sounds of LIGO\n",
      "  - FFTs\n",
      "  - Matched filtering\n",
      "\n",
      "Stealthily:\n",
      "\n",
      "  - Data analysis\n",
      "  - Python\n",
      "  - IPython notebooks"
     ]
    },
    {
     "cell_type": "markdown",
     "metadata": {
      "slideshow": {
       "slide_type": "notes"
      }
     },
     "source": [
      "The ostensible purpose of this talk is to introduce you to matched filtering, which is the basic method that GW detectors use in searching for (and, hopefully one day, measuring) GW signals.  But that's a pretty narrow purpose, and most of you will not get involved in GWs.  So I want to also give you some exposure to a few other ideas that hopefully will have more broad application to all of you when you go into other fields.  And we'll use matched-filtering as a way into those other ideas."
     ]
    },
    {
     "cell_type": "markdown",
     "metadata": {
      "slideshow": {
       "slide_type": "notes"
      }
     },
     "source": [
      "So ostensibly, the outline of this activity starts off with introducing you to the sounds of GWs.  I'll make this analogy that LIGO is just an extraordinary microphone, and we'll listen to the sounds a GW makes, and the sounds of the LIGO instrument itself.  Then, we'll see that FFTs are a really powerful way of analyzing these sounds, and matched filtering is a really sensitive way of measuring those FFTs.\n",
      "\n",
      "But of course, while we're doing that, I also want to give you a little flavor of data analysis.  Pretty much all of you either are working on or will work on data analysis at some point, and there are some very general rules and ideas that can be applied to basically any type of data analysis.  So I'll want to use this stuff as a sort of analogy for other types of data analysis, so hopefully you can apply these principles to your own work."
     ]
    },
    {
     "cell_type": "markdown",
     "metadata": {
      "slideshow": {
       "slide_type": "slide"
      }
     },
     "source": [
      "# IPython notebooks\n",
      "\n",
      "  - Like Mathematica, but better (mostly)\n",
      "  - Runs a live session of python\n",
      "  - Make plots, write code, interact with data, take notes, give presentations, ...\n",
      "\n",
      "\n",
      "  - You don't need to know python\n",
      "  - Put cursor in grey boxes and hit Shift-Enter"
     ]
    },
    {
     "cell_type": "markdown",
     "metadata": {
      "slideshow": {
       "slide_type": "notes"
      }
     },
     "source": [
      "So first, I just want to introduce how we're working here.  Who here has used python before?\n",
      "\n",
      "Python is really dynamic, and powerful, but also a lot simpler than most other languages.  It's not always the fastest at any computation, but since most of your time is spent writing programs (rather than running them), that's not usually a big problem.  And new developments are making python just as fast as even C/C++ in a lot of cases.\n",
      "\n",
      "Now, we throw in the IPython notebook.  Who here has used Mathematica before?\n",
      "\n",
      "Well the IPython notebook looks and acts like a nice version of Mathematica.  The notebook is connected to a live session of python.  It has these code cells that you run, and you can see the results.  So click on the first cell, and hit Shift+Enter.\n",
      "\n",
      "Mathematica is better at symbolic math (for now).  But otherwise, python is more useful and general.  And the ipython notebook makes it better at interactive stuff.  So here's my unsolicited advice: if you're deciding what programming language to learn, go with python.  There are nerdier options out there, but not many more broadly useful options.  And if you're using python interactively, you'll want to us ipython (which is just a different interface) or -- better yet -- the ipython notebook."
     ]
    },
    {
     "cell_type": "markdown",
     "metadata": {
      "slideshow": {
       "slide_type": "slide"
      }
     },
     "source": [
      "# LIGO is a giant microphone"
     ]
    },
    {
     "cell_type": "markdown",
     "metadata": {},
     "source": []
    },
    {
     "cell_type": "markdown",
     "metadata": {
      "slideshow": {
       "slide_type": "slide"
      }
     },
     "source": [
      "# LIGO is a *noisy* microphone"
     ]
    },
    {
     "cell_type": "markdown",
     "metadata": {},
     "source": []
    },
    {
     "cell_type": "markdown",
     "metadata": {
      "slideshow": {
       "slide_type": "slide"
      }
     },
     "source": [
      "# Fourier transforms"
     ]
    },
    {
     "cell_type": "markdown",
     "metadata": {
      "slideshow": {
       "slide_type": "notes"
      }
     },
     "source": [
      "We've been *listening to* the data.  Now, let's *look at* it."
     ]
    },
    {
     "cell_type": "markdown",
     "metadata": {
      "slideshow": {
       "slide_type": "slide"
      }
     },
     "source": [
      "# Matched filtering"
     ]
    },
    {
     "cell_type": "markdown",
     "metadata": {
      "slideshow": {
       "slide_type": "subslide"
      }
     },
     "source": [
      "Fourier series are vectors; Fourier space is a vector space.\n",
      "\n",
      "We've provided the vector space with a \"dot product\" (which makes it into a Hilbert space).\n",
      "\n",
      "The dot product accounts for different amounts of noise in the different vector components.\n",
      "\n",
      "Matched filtering is taking a signal vector and measuring its projection along a template vector."
     ]
    },
    {
     "cell_type": "markdown",
     "metadata": {},
     "source": []
    },
    {
     "cell_type": "markdown",
     "metadata": {},
     "source": []
    },
    {
     "cell_type": "markdown",
     "metadata": {
      "slideshow": {
       "slide_type": "slide"
      }
     },
     "source": [
      "# Conclusions\n",
      "\n",
      "Matched filtering:\n",
      " - Current GW detectors are like giant microphones\n",
      " - There's lots of noise\n",
      " - So we \n",
      "\n",
      "Data analysis:\n",
      " - FFTs are great for time series (any periodic signal)\n",
      " - Python and ipython notebooks are really useful\n",
      " - Look at your data in as many ways as possible\n",
      " - Don't blindly trust hand-me-down algorithms\n",
      " - Don't blindly trust your results\n",
      "  - Think about whether they make sense\n",
      "  - Understand all the features"
     ]
    },
    {
     "cell_type": "markdown",
     "metadata": {
      "slideshow": {
       "slide_type": "skip"
      }
     },
     "source": []
    }
   ],
   "metadata": {}
  }
 ]
}