{
 "metadata": {
  "name": "MatchedFiltering"
 },
 "nbformat": 3,
 "nbformat_minor": 0,
 "worksheets": [
  {
   "cells": [
    {
     "cell_type": "markdown",
     "metadata": {},
     "source": [
      "Run the following cell before doing anything else, just to get things set up.  Put your cursor in the grey block below, and hit Shift-Enter to run the code."
     ]
    },
    {
     "cell_type": "code",
     "collapsed": true,
     "input": [
      "import pyMatchedFiltering as MatchedFiltering # This is the main custom module for matched filtering\n",
      "import time  # This just lets us wait 2 seconds before recording\n",
      "import scipy.signal\n",
      "SamplingFrequency = 44100  # Recording sampling rate (in Hertz) appropriate for Macs or some linuxes\n",
      "#SamplingFrequency = 45000  # Recording sampling rate (in Hertz) appropriate for most linuxes\n",
      "PlotEvery = 1 # Make plots a little faster (if using ipython option 'inline' with svg plots, use 500 or so)\n",
      "mpl.rcParams['figure.figsize'] = 12,8  # Set default figure size (in inches)\n",
      "%config InlineBackend.figure_format='png'"
     ],
     "language": "python",
     "metadata": {},
     "outputs": []
    },
    {
     "cell_type": "markdown",
     "metadata": {},
     "source": [
      "If you put your cursor in a text section and something weird happens, just put the cursor back in a grey \n",
      "box, and everything will be okay."
     ]
    },
    {
     "cell_type": "heading",
     "level": 1,
     "metadata": {},
     "source": [
      "Brief review of Fourier transforms"
     ]
    },
    {
     "cell_type": "markdown",
     "metadata": {},
     "source": [
      "To take an example, suppose we have a pure tone &mdash; a signal $s(t)$ that is just one pure \n",
      "frequency.  Let's say that frequency is 440 Hz.  As a function of time, that signal will look and sound \n",
      "like this:"
     ]
    },
    {
     "cell_type": "code",
     "collapsed": false,
     "input": [
      "### Create Waveform object with 440 Hz signal\n",
      "Frequency = 440 # Hz\n",
      "Length = 3.0 # seconds\n",
      "PureTone = MatchedFiltering.Waveform()\n",
      "PureTone.dt = 1.0/float(SamplingFrequency) # Time between samples\n",
      "PureTone.N = int(SamplingFrequency*Length) # Number of samples\n",
      "PureTone.data = sin(2*pi*Frequency*linspace(0.0, Length, PureTone.N, endpoint=False))\n",
      "\n",
      "### Plot the first 0.1 seconds\n",
      "figure()\n",
      "plot(PureTone.Time(), PureTone.data);\n",
      "xlim(0, 0.1);\n",
      "ylim(-1.2, 1.2);\n",
      "xlabel(\"$t$ (measured in seconds)\");\n",
      "ylabel(\"$s(t)$ (measured in arbitrary units)\");\n",
      "title(\"Pure tone as a function of time (showing only the first 0.1 seconds)\");\n",
      "\n",
      "### Play it\n",
      "PureTone.Play()"
     ],
     "language": "python",
     "metadata": {},
     "outputs": []
    },
    {
     "cell_type": "markdown",
     "metadata": {},
     "source": [
      "When we take the Fourier transform, we'll just get $\\tilde s_{\\text{440 Hz}} = 1$, and all the other\n",
      "$\\tilde{s}_{f_i}=0$:"
     ]
    },
    {
     "cell_type": "code",
     "collapsed": false,
     "input": [
      "### Convert to frequency domain\n",
      "PureToneFFT = np.fft.fft(PureTone.data) / PureTone.N # Take the Fourier transform\n",
      "PureToneFrequencies = np.fft.fftfreq(PureTone.N, PureTone.dt) # Values of the f_i\n",
      "\n",
      "### Now plot it:\n",
      "figure()\n",
      "PlotPoints = PureTone.N/2 # show first half of the data (positive frequencies)\n",
      "plot(PureToneFrequencies[:PlotPoints:PlotEvery], 2*abs(PureToneFFT[:PlotPoints:PlotEvery]));\n",
      "xlim(0,2*Frequency);\n",
      "ylim(-0.1, 1.1);\n",
      "xlabel(\"$f_i$ (measured in Hertz)\");\n",
      "ylabel(\"$\\\\tilde{n}_{f_i}$ (measured in arbitrary units)\");\n",
      "title(\"Amplitude of the Fourier transform of the pure tone\");"
     ],
     "language": "python",
     "metadata": {},
     "outputs": []
    },
    {
     "cell_type": "heading",
     "level": 1,
     "metadata": {},
     "source": [
      "Noise in the detector"
     ]
    },
    {
     "cell_type": "markdown",
     "metadata": {},
     "source": [
      "You need to understand the noise in your detector when there are no signals, to know for sure if you've \n",
      "actually measured a signal or just noise that happens to look like a signal."
     ]
    },
    {
     "cell_type": "code",
     "collapsed": false,
     "input": [
      "## Optional: record your own background noise level if there is a microphone on your system\n",
      "#time.sleep(2) # wait 2 seconds before starting to record, to let things get quiet...\n",
      "#Noise = MatchedFiltering.RecordWaveform(10, SamplingFrequency) # Record for 10 seconds\n",
      "\n",
      "### Load previously recorded noise\n",
      "Noise = MatchedFiltering.Waveform('Sounds/NoiseSample.wav')"
     ],
     "language": "python",
     "metadata": {},
     "outputs": []
    },
    {
     "cell_type": "markdown",
     "metadata": {},
     "source": [
      "One of the first rules of data analysis (in *any* field of science) is to understand what your raw data \n",
      "contains.  You want to look at a graph of it.  In this case, we also want to listen to it."
     ]
    },
    {
     "cell_type": "code",
     "collapsed": false,
     "input": [
      "### Plot the data as a function of time\n",
      "figure()\n",
      "plot(Noise.Time()[::PlotEvery], Noise.data[::PlotEvery]);\n",
      "xlabel(\"Time (seconds)\");\n",
      "ylabel(\"$n(t)$ (measured in arbitrary units)\");\n",
      "title(\"Noise as a function of time\");\n",
      "\n",
      "### Play the data over the sound card\n",
      "Noise.Play()"
     ],
     "language": "python",
     "metadata": {},
     "outputs": []
    },
    {
     "cell_type": "markdown",
     "metadata": {},
     "source": [
      "Obviously, this is not a pure tone, so we don't expect to see just a single spike in the Fourier transform:"
     ]
    },
    {
     "cell_type": "code",
     "collapsed": false,
     "input": [
      "### Convert to frequency domain\n",
      "NoiseFFT = np.fft.fft(Noise.data) / Noise.N # Take the Fourier transform and save as 'NoiseFFT'\n",
      "NoiseFrequencies = np.fft.fftfreq(Noise.N, Noise.dt) # Values of the f_i\n",
      "\n",
      "### Now plot it:\n",
      "figure()\n",
      "PlotPoints = Noise.N/2 # show first half of the data (positive frequencies)#\n",
      "semilogy(NoiseFrequencies[:PlotPoints:PlotEvery], 2*abs(NoiseFFT[:PlotPoints:PlotEvery]));\n",
      "#xlim(0,25000);\n",
      "xlim(0,5000);\n",
      "ylim(ymin=1e-4);\n",
      "xlabel(\"$f_i$ (measured in Hertz)\");\n",
      "ylabel(\"$\\\\tilde{n}_{f_i}$ (measured in arbitrary units)\");\n",
      "title(\"Amplitude of the Fourier transform of Noise\");"
     ],
     "language": "python",
     "metadata": {},
     "outputs": []
    },
    {
     "cell_type": "markdown",
     "metadata": {},
     "source": [
      "You'll see lots of different spikes, but also some general trends in the data, like a gradual decrease in the amplitude at higher frequencies.\n",
      "\n",
      "It might be helpful to think of this in a more familiar context: the bass and treble controls on a stereo \n",
      "control the deep and high sounds, corresponding to the left and right sides of our Fourier transform, \n",
      "respectively."
     ]
    },
    {
     "cell_type": "markdown",
     "metadata": {},
     "source": [
      "### Questions\n",
      "\n",
      "* What do you notice about the average value of $n(t)$, your noise as a function of time?  How does that \n",
      "show up in the Fourier transform of the signal?\n",
      "\n",
      "* Did you hear anything funny in your noise recording?  Was there any buzzing or humming?  Where did these \n",
      "come from?\n",
      "\n",
      "* If there was any buzzing or humming, can you see anything in the Fourier transform that might correspond \n",
      "to that sound?\n",
      "\n",
      "* Can you explain any other features of your fft plot?\n",
      "\n",
      "* LIGO doesn't control gravitational waves.  We can never turn them all off, so we can never be sure if \n",
      "we're looking at pure noise, or if there's some signal in there.  How could we know what is really just \n",
      "noise, and what isn't?"
     ]
    },
    {
     "cell_type": "heading",
     "level": 1,
     "metadata": {},
     "source": [
      "Matched filtering example in audio noise"
     ]
    },
    {
     "cell_type": "markdown",
     "metadata": {},
     "source": [
      "We'll make up a signal that's kind of vaguely like a real gravitational-wave signal, but is \n",
      "really easy to calculate.  Then, we'll add it to our noise data &mdash; but very quietly.\n",
      "Finally, we'll detect it again with matched filtering."
     ]
    },
    {
     "cell_type": "heading",
     "level": 2,
     "metadata": {},
     "source": [
      "Make up a \"swept sine-Gaussian\" signal"
     ]
    },
    {
     "cell_type": "markdown",
     "metadata": {},
     "source": [
      "This will be a roughly sinusoidal signal with gradually increasing (sweeping) frequency, but its \n",
      "amplitude is a Gaussian function."
     ]
    },
    {
     "cell_type": "code",
     "collapsed": false,
     "input": [
      "### Set the parameters of our signal\n",
      "SineGaussianCenter = 5.0 # Center of the function in seconds\n",
      "SineGaussianFWHM = 2.4 # full-width at half-max (FWHM) of the Gaussian in seconds\n",
      "SineGaussianFreq = 180 # Central frequency in Hertz\n",
      "SineSweep = SineGaussianFreq/10.0 # Amount of frequency sweep across the Gaussian FWHM\n",
      "\n",
      "### Define the function\n",
      "sigma = SineGaussianFWHM / (2*sqrt(2*log(2)))\n",
      "def SweptSineGaussianFunction(t) :\n",
      "    return exp(-(t-SineGaussianCenter)**2/(2*sigma**2)) \\\n",
      "        * cos(2*pi*(SineGaussianFreq+SineSweep*(t-SineGaussianCenter)/SineGaussianFWHM)\n",
      "              *(t-SineGaussianCenter))\n",
      "\n",
      "### Evaluate the function and save the data\n",
      "SweptSineGaussian = MatchedFiltering.Waveform(Noise)\n",
      "SweptSineGaussian.data = SweptSineGaussianFunction(Noise.Time())\n",
      "\n",
      "### Now plot it as a function of time\n",
      "figure();\n",
      "plot(SweptSineGaussian.Time(), SweptSineGaussian.data, lw=0.4);\n",
      "xlabel(\"$t$ (seconds)\");\n",
      "ylabel(\"Amplitude (arbitrary units)\");\n",
      "title(\"Swept sine-Gaussian signal in the time domain\");\n",
      "\n",
      "### Listen to the result\n",
      "SweptSineGaussian.Play();"
     ],
     "language": "python",
     "metadata": {},
     "outputs": []
    },
    {
     "cell_type": "markdown",
     "metadata": {},
     "source": [
      "You won't be able to see all the individual oscillations above, but if you zoom in, you can see that \n",
      "they're there, and they get closer together later in time (the frequency gets higher).\n",
      "\n",
      "It's also interesting to look at this signal in the frequency domain, so let's plot the Fourier transform:"
     ]
    },
    {
     "cell_type": "code",
     "collapsed": false,
     "input": [
      "### Evaluate the fft\n",
      "SweptSineGaussianFFT = np.fft.fft(SweptSineGaussian.data) / SweptSineGaussian.N\n",
      "\n",
      "### Plot it, as above\n",
      "figure()\n",
      "semilogy(NoiseFrequencies[:PlotPoints], 2*abs(SweptSineGaussianFFT[:PlotPoints]));\n",
      "xlim(0,SineGaussianFreq*5)\n",
      "xlabel(\"$f_i$ (measured in Hertz)\");\n",
      "ylabel(\"$a_{f_i}$ (measured in arbitrary units)\");\n",
      "title(\"Amplitude of the Fourier transform of the swept sine-Gaussian\");"
     ],
     "language": "python",
     "metadata": {},
     "outputs": []
    },
    {
     "cell_type": "markdown",
     "metadata": {},
     "source": [
      "The main feature to note here is that the peak amplitude is at 180 Hz, which is what we set \n",
      "'SineGaussianFreq' to above.  If the frequency were constant, we'd have a narrow spike there.  But we've\n",
      "also made the frequency sweep, which makes the spike a lot broader.  There's really a mix of frequencies in\n",
      "the data."
     ]
    },
    {
     "cell_type": "markdown",
     "metadata": {},
     "source": [
      "## Inject the signal into our noise (make up fake detector data)\n",
      "\n",
      "For our signal, we'll use the swept sine-Gaussian we made above, but shift it by 1 second just to make\n",
      "things a little difficult.  Then, we'll add the signal to the noise, to make up some fake detector data.\n",
      "But just to make things more interesting, we'll make the signal very small compared to the noise."
     ]
    },
    {
     "cell_type": "code",
     "collapsed": true,
     "input": [
      "### Create the signal\n",
      "SignalOffset = 1.0 # Time to shift the signal (in seconds)\n",
      "Signal = MatchedFiltering.Waveform(SweptSineGaussian) # Make a copy of the swept sine-Gaussian\n",
      "Signal.data = SweptSineGaussianFunction(SweptSineGaussian.Time()+SignalOffset) # Shift the time\n",
      "\n",
      "### Inject it into the noise\n",
      "InputSignalToNoiseRatio = 1./20. # ...roughly\n",
      "DetectorData = (1-InputSignalToNoiseRatio)*Noise + InputSignalToNoiseRatio*SweptSineGaussian"
     ],
     "language": "python",
     "metadata": {},
     "outputs": []
    },
    {
     "cell_type": "markdown",
     "metadata": {},
     "source": [
      "Now, just to see that the signal really is tiny compared to the noise, listen to our detector data.  (Again,\n",
      "be careful because this might be loud.)  You shouldn't be able to hear the signal very well &mdash; if at all.  \n",
      "Hopefully, that will make it all the more impressive when we can easily pull the signal out of the data using matched filtering."
     ]
    },
    {
     "cell_type": "code",
     "collapsed": true,
     "input": [
      "DetectorData.Play()"
     ],
     "language": "python",
     "metadata": {},
     "outputs": []
    },
    {
     "cell_type": "markdown",
     "metadata": {},
     "source": [
      "## Matched filtering in action\n",
      "\n",
      "Now that you understand matched filtering, let's try it out with our fake data.  We'll show the match \n",
      "quantity as a function of time offset, first between the signal and the plain old noise (so we expect\n",
      "more noise as a result), then between the signal and our fake detector data."
     ]
    },
    {
     "cell_type": "code",
     "collapsed": false,
     "input": [
      "## Calculate the match with the detector data and just plain noise (no signal)\n",
      "MatchWithPlainNoise = MatchedFiltering.Match(Noise, Signal, Noise)\n",
      "MatchWithDetectorData = MatchedFiltering.Match(DetectorData, Signal, Noise)\n",
      "\n",
      "### Compare peak matches\n",
      "print(\"Largest match with plain noise   = {}\".format(max(MatchWithPlainNoise[50:-50])))\n",
      "print(\"Largest match with detector data = {}\".format(max(MatchWithDetectorData[50:-50])))\n",
      "print(\"Output signal-to-noise ratio = {}\".format(max(MatchWithDetectorData[50:-50])\n",
      "                          /max(MatchWithPlainNoise[50:-50])))\n",
      "print(\"Input signal-to-noise ratio = {}\".format(InputSignalToNoiseRatio))\n",
      "\n",
      "### Plot the results\n",
      "figure()\n",
      "semilogy(Noise.Time()[::PlotEvery], MatchWithDetectorData[::PlotEvery], \n",
      "         label=\"$\\\\mathrm{Match}(d,s)$\");\n",
      "semilogy(Noise.Time()[::PlotEvery], MatchWithPlainNoise[::PlotEvery], \n",
      "         label=\"$\\\\mathrm{Match}(n,s)$\");\n",
      "ylim(1e-4, 1);\n",
      "xlabel(\"Time offset (seconds)\");\n",
      "ylabel(\"Match\");\n",
      "legend(loc=\"upper right\");"
     ],
     "language": "python",
     "metadata": {},
     "outputs": []
    },
    {
     "cell_type": "markdown",
     "metadata": {},
     "source": [
      "This plot shows that if we search for the signal in pure noise, we get noise &mdash; a bunch of spikes, but\n",
      "none really bigger than any other.  But if we search for the signal in our (faked) detector data, we see a \n",
      "big spike right around 1 second of time offset.  This is exactly the time offset we gave the injected \n",
      "signal.  Because this spike is so big, and comes just where we expect it to, we can say that we've detected\n",
      "the swept sine-Gaussian signal in noise that's 50 times louder than the signal."
     ]
    },
    {
     "cell_type": "markdown",
     "metadata": {},
     "source": [
      "### Questions\n",
      "\n",
      "* If you zoom in on the spike in the plot, you'll see that it's actually kind of wide.  Why isn't it just a \n",
      "single spike with exactly the offset we gave the signal?\n",
      "\n",
      "* The spike telling us that we found the signal isn't just wide, it's got some weird bumps in it.  Where do \n",
      "these come from?\n",
      "\n",
      "* For a real measurement, we don't have the pure noise without the signal, so we can't make the green line \n",
      "above.  All we would ever see is a spike in our data.  How can we decide if that spike is a real signal?\n",
      "\n",
      "* Play around with the parameters 'SineGaussianFWHM', 'SineGaussianFreq', and 'SineSweep' above.  Then \n",
      "re-run everything to get the plot above for your new parameters.  How do the different parameters affect \n",
      "how well you can detect the signal?"
     ]
    },
    {
     "cell_type": "heading",
     "level": 1,
     "metadata": {},
     "source": [
      "Matched filtering using LIGO data"
     ]
    },
    {
     "cell_type": "heading",
     "level": 2,
     "metadata": {},
     "source": [
      "Gravitational-wave signals and LIGO noise"
     ]
    },
    {
     "cell_type": "markdown",
     "metadata": {},
     "source": [
      "We have some pre-made signals for you to listen to and experiment with.  To load them, run this:"
     ]
    },
    {
     "cell_type": "code",
     "collapsed": true,
     "input": [
      "### Read inspiral-merger-ringdown waveforms from files\n",
      "NonspinningGWs = {} # Create an empty dictionary\n",
      "for m in [5, 6, 7, 8, 9, 10, 20, 40, 80, 160, 320] : # Store merger waveforms in the dictionary\n",
      "    NonspinningGWs[m] = MatchedFiltering.Waveform('Sounds/EqualMassNonspinning_Re_M{:03d}.wav'.format(m))\n",
      "SpinningGWs = {} # Create an empty dictionary\n",
      "for m in [5, 6, 7, 8, 9, 10, 20, 40, 80, 160, 320] : # Store merger waveforms in the dictionary\n",
      "    SpinningGWs[m] = MatchedFiltering.Waveform('Sounds/EqualMassAlignedSpins_Re_M{:03d}.wav'.format(m))\n",
      "\n",
      "### Read the LIGO noise file and upsample to match GWs\n",
      "LIGONoise = MatchedFiltering.Waveform('Sounds/LIGONoise.wav')\n",
      "LIGONoise.data = scipy.signal.resample(LIGONoise.data, LIGONoise.N*LIGONoise.dt/NonspinningGWs[5].dt)\n",
      "LIGONoise.N = len(LIGONoise.data)\n",
      "LIGONoise.dt = NonspinningGWs[5].dt"
     ],
     "language": "python",
     "metadata": {},
     "outputs": []
    },
    {
     "cell_type": "markdown",
     "metadata": {},
     "source": [
      "Now, to hear what a binary sounds like, you can run the following cell.  It should start out very quiet and very deep, progressively getting louder and higher-pitched.  Then, \n",
      "there's a pop sound, followed by quiet.  That pop is the merger and ringdown.  The ringdown itself is so quick that you don't really hear it for any of the masses we have.  Try putting other masses from the list above in place of 5, to hear how the sound depends on mass."
     ]
    },
    {
     "cell_type": "code",
     "collapsed": true,
     "input": [
      "NonspinningGWs[5].Play()"
     ],
     "language": "python",
     "metadata": {},
     "outputs": []
    },
    {
     "cell_type": "markdown",
     "metadata": {},
     "source": [
      "We can look at the Fourier transform of the gravitational waves:"
     ]
    },
    {
     "cell_type": "code",
     "collapsed": false,
     "input": [
      "### Convert GW signal to frequency domain\n",
      "Mass = 5\n",
      "GWFFT = np.fft.fft(NonspinningGWs[Mass].data) / NonspinningGWs[Mass].N # Take the Fourier transform\n",
      "GWFrequencies = np.fft.fftfreq(NonspinningGWs[Mass].N, NonspinningGWs[Mass].dt) # Values of the f_i\n",
      "\n",
      "### Now plot it:\n",
      "figure()\n",
      "PlotPoints = NonspinningGWs[Mass].N/2 # show first half of the data (positive frequencies)#\n",
      "loglog(GWFrequencies[:PlotPoints:PlotEvery], 2*abs(GWFFT[:PlotPoints:PlotEvery]));\n",
      "xlim(40,5000);\n",
      "ylim(ymin=1e-8);\n",
      "xlabel(\"$f_i$ (measured in Hertz)\");\n",
      "ylabel(\"$\\\\tilde{h}_{f_i}$ (measured in arbitrary units)\");\n",
      "title(\"Amplitude of the Fourier transform of the non-spinning gravitational-wave signal \"\n",
      "      +\"with mass $M={0}M_\\odot$\".format(Mass));"
     ],
     "language": "python",
     "metadata": {},
     "outputs": []
    },
    {
     "cell_type": "markdown",
     "metadata": {},
     "source": [
      "You can also listen to some raw data from LIGO (which is presumably all noise at this point):"
     ]
    },
    {
     "cell_type": "code",
     "collapsed": true,
     "input": [
      "LIGONoise.Play()"
     ],
     "language": "python",
     "metadata": {},
     "outputs": []
    },
    {
     "cell_type": "markdown",
     "metadata": {},
     "source": [
      "Next, we look at the noise in the frequency domain:"
     ]
    },
    {
     "cell_type": "code",
     "collapsed": false,
     "input": [
      "### Convert LIGO data to frequency domain\n",
      "LIGONoiseFFT = np.fft.fft(LIGONoise.data) / LIGONoise.N # Take the Fourier transform\n",
      "LIGONoiseFrequencies = np.fft.fftfreq(LIGONoise.N, LIGONoise.dt) # Values of the f_i\n",
      "\n",
      "### Now plot it:\n",
      "figure()\n",
      "PlotPoints = LIGONoise.N/2 # show first half of the data (positive frequencies)#\n",
      "loglog(LIGONoiseFrequencies[:PlotPoints:PlotEvery], 2*abs(LIGONoiseFFT[:PlotPoints:PlotEvery]));\n",
      "#xlim(0,25000);\n",
      "xlim(20,5000);\n",
      "ylim(ymin=1e-6);\n",
      "xlabel(\"$f_i$ (measured in Hertz)\");\n",
      "ylabel(\"$\\\\tilde{n}_{f_i}$ (measured in arbitrary units)\");\n",
      "title(\"Amplitude of the Fourier transform of LIGO's noise\");"
     ],
     "language": "python",
     "metadata": {},
     "outputs": []
    },
    {
     "cell_type": "markdown",
     "metadata": {},
     "source": [
      "### Questions\n",
      "\n",
      "* When you listened to the gravitational wave, you heard that it was very quiet and deep in the beginning,\n",
      "and got louder and higher as time went on.  But if you look at the Fourier transform, it's bigger at low\n",
      "frequencies, and smaller at high frequencies.  Why does this make sense?\n",
      "\n",
      "* Can you identify any features in the Fourier transform of the LIGO noise?  (Hint: at what frequency does \n",
      "the largest peak occur?)\n",
      "\n",
      "* Ignoring the spikes in the LIGO noise curve, describe its general shape.  Why does it have that shape?"
     ]
    },
    {
     "cell_type": "markdown",
     "metadata": {},
     "source": [
      "## Detecting an injected signal"
     ]
    },
    {
     "cell_type": "markdown",
     "metadata": {},
     "source": [
      "Now, we'll repeat our earlier exercise of injecting data into the noise and finding it with matched \n",
      "filtering, but this time we'll use LIGO's noise and one of our gravitational waves."
     ]
    },
    {
     "cell_type": "code",
     "collapsed": true,
     "input": [
      "Mass = 20\n",
      "InputSignalToNoiseRatio = 1e-9 # ... sort of ... in the time domain ...\n",
      "GW = GWs[Mass]\n",
      "if(GW.N>LIGONoise.N) : # Shorten GW if it's too long\n",
      "    GW.data = GW.data[GW.N-LIGONoise.N:]\n",
      "    GW.N = LIGONoise.N\n",
      "FakeLIGOData = (1-InputSignalToNoiseRatio)*LIGONoise + InputSignalToNoiseRatio*GW\n",
      "LIGONoiseInterp = 1.0*LIGONoise+0.0*GW\n",
      "GW = 0.0*LIGONoise+1.0*GW"
     ],
     "language": "python",
     "metadata": {},
     "outputs": []
    },
    {
     "cell_type": "markdown",
     "metadata": {},
     "source": [
      "Note how tiny we've made the signal compared to the noise.  Just to prove to you that this really is tiny,\n",
      "try to hear it in the data:"
     ]
    },
    {
     "cell_type": "code",
     "collapsed": true,
     "input": [
      "FakeLIGOData.Play()"
     ],
     "language": "python",
     "metadata": {},
     "outputs": []
    },
    {
     "cell_type": "markdown",
     "metadata": {},
     "source": [
      "It's really impossible to hear.  You can make the signal *much* louder, and still have a hard time hearing\n",
      "it.  But it's in there, as we can see by digging it out with matched filtering:"
     ]
    },
    {
     "cell_type": "code",
     "collapsed": false,
     "input": [
      "## Calculate the match with the detector data and just plain noise (no signal)\n",
      "MatchWithDetectorData = abs(MatchedFiltering.Match(FakeLIGOData, GW, LIGONoiseInterp))\n",
      "\n",
      "### Compare peak matches\n",
      "print(\"Largest match with detector data = {}\".format(max(MatchWithDetectorData[:])))\n",
      "print(\"Input signal-to-noise ratio = {}\".format(InputSignalToNoiseRatio))\n",
      "\n",
      "### Plot the results\n",
      "figure()\n",
      "PlotEveryBefore = PlotEvery\n",
      "if(PlotEvery<10) :\n",
      "    PlotEvery = 10\n",
      "semilogy(LIGONoiseInterp.Time()[::PlotEvery], MatchWithDetectorData[::PlotEvery], \n",
      "         label=\"$\\\\mathrm{Match}(d,s)$\");\n",
      "PlotEvery = PlotEveryBefore\n",
      "ylim(1e-3, 2);\n",
      "xlim(-1, 21);\n",
      "xlabel(\"Time offset (seconds)\");\n",
      "ylabel(\"Match\");\n",
      "legend(loc=\"upper right\");"
     ],
     "language": "python",
     "metadata": {},
     "outputs": []
    },
    {
     "cell_type": "markdown",
     "metadata": {},
     "source": [
      "The result is clear as day.  The matched filter tells us very clearly that the signal is in there, despite \n",
      "the fact that we injected it with such a small amplitude relative to the noise."
     ]
    },
    {
     "cell_type": "markdown",
     "metadata": {},
     "source": [
      "### Questions\n",
      "\n",
      "* Where is the peak in the last plot?  Why is it there as opposed to anywhere else?\n",
      "\n",
      "* Are there any other peaks in the last plot?  Why?  (Hint: doing a Fourier transform on a finite stretch\n",
      "of data requires a certain assumption.  What is that assumption?)"
     ]
    }
   ],
   "metadata": {}
  }
 ]
}