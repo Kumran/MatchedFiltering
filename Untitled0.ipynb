{
 "metadata": {
  "name": "",
  "signature": "sha256:63a4c62ae3a335024afc8f037b51e387a17c0c18c36d312ce59c37ecbc06e89d"
 },
 "nbformat": 3,
 "nbformat_minor": 0,
 "worksheets": [
  {
   "cells": [
    {
     "cell_type": "markdown",
     "metadata": {},
     "source": [
      "#Introduction\n",
      "\n",
      "## What are we doing?\n",
      "\n",
      "We're doing a little interactive project to give you a better feel for how LIGO data analysis actually works.  In particular, we'll be doing **matched filtering** of some data.\n",
      "\n",
      "You can kind of think of LIGO as a really sensitive microphone, and the data that comes out is like a sound recording.  (Except, of course, that sound requires air, while gravitational waves travel through spacetime itself.)  In fact, if you go to the LIGO control room, they'll often play the data over speakers, because this is a really useful way of thinking about it.  It even happens to be in the right range for human hearing.  So we'll be listening to LIGO data and gravitational waveforms.\n",
      "\n",
      "But that will just be one of the data-analysis techniques we use.  We'll be looking at Fourier transforms, and introducing matched filters.  Finally, we'll do the some actual LIGO data analysis with some real (simulated) gravitational waveforms and LIGO data.\n",
      "\n",
      "## What are we looking at?\n",
      "\n",
      "This is an ipython notebook.  It's connected to an actual python session, but it runs through a web browser, so we can format things nicely and give some explanations, and so you don't have to copy-and-paste all the instructions into a normal python session.  (It's meant to look and work like Mathematica, if you've ever used that before.)\n",
      "\n",
      "Each of the sections in gray with something like \"`In[1]:`\" in front of it is called a *cell* and contains code for you to run.  Run the code by placing your cursor in the cell, then pressing Shift+Enter.  First, we change to the correct directory:"
     ]
    },
    {
     "cell_type": "code",
     "collapsed": false,
     "input": [
      "cd ~/MatchedFiltering"
     ],
     "language": "python",
     "metadata": {},
     "outputs": []
    },
    {
     "cell_type": "markdown",
     "metadata": {},
     "source": [
      "Next, we'll load a few necessary packages that set up python to run the rest of our code:"
     ]
    },
    {
     "cell_type": "code",
     "collapsed": false,
     "input": [
      "# Set up matplotlib and numpy\n",
      "%pylab inline\n",
      "\n",
      "# Don't use svg for plots with lots of points\n",
      "%config InlineBackend.figure_format='png'\n",
      "\n",
      "# This lets us write prettier things\n",
      "from IPython.display import Latex, display\n",
      "\n",
      "# Utils is a custom package with nice matched-filtering stuff\n",
      "import Utils\n",
      "\n",
      "SamplingFrequency = 8192.0\n",
      "DistanceInMegaparsecs = 10.0"
     ],
     "language": "python",
     "metadata": {},
     "outputs": []
    },
    {
     "cell_type": "markdown",
     "metadata": {},
     "source": [
      "You won't be expected to understand the python code (though if you do, that's great).  But you should run it, follow along with the explanations, and try to understand all the plots and sounds.\n",
      "\n",
      "If you put your cursor in a text section and something weird happens, just put the cursor back in a gray box, and everything will be okay."
     ]
    },
    {
     "cell_type": "markdown",
     "metadata": {},
     "source": [
      "<br /><br /><br />\n",
      "\n",
      "# Listening to gravitational waves\n",
      "\n",
      "We've have some pre-made waveforms for you to experiment with.  We'll create a couple functions to read them in from the disk, then scale them to simulate a signal from $10\\,$Mpc away, and for a range of masses.  To define the functions, run this cell:"
     ]
    },
    {
     "cell_type": "code",
     "collapsed": false,
     "input": [
      "def NonspinningGW(MassInSolarMasses, DistanceInMegaparsecs=DistanceInMegaparsecs):\n",
      "    return Utils.Waveform('Sounds/rhOverM_EqualMassNonspinning_L2_M2.dat',\n",
      "                          SamplingFrequency, MassInSolarMasses, DistanceInMegaparsecs)\n",
      "def SpinningGW(MassInSolarMasses, DistanceInMegaparsecs=DistanceInMegaparsecs):\n",
      "    return Utils.Waveform('Sounds/rhOverM_EqualMassAlignedSpins_L2_M2.dat',\n",
      "                          SamplingFrequency, MassInSolarMasses, DistanceInMegaparsecs)"
     ],
     "language": "python",
     "metadata": {},
     "outputs": []
    },
    {
     "cell_type": "markdown",
     "metadata": {},
     "source": [
      "So now we have a series of non-spinning and spinning waveforms, with masses as given in the `SelectedMassesInSolarMasses` variable.  So, for example, we can access the non-spinning waveform with a total mass of 5 solar masses as `NonspinningGWs[5]`.\n",
      "\n",
      "Next, we want to look at the data.  The data itself represents the amount of motion the mirrors in the detector experience, and they are given as a function of time.  So we can just plot the data:"
     ]
    },
    {
     "cell_type": "code",
     "collapsed": false,
     "input": [
      "W = NonspinningGW(100.0)\n",
      "plot(W.t, W.data)\n",
      "\n",
      "xlabel(r'$t$ (seconds)')\n",
      "ylabel(r'$h$ (dimensionless strain)')\n",
      "title(r'Gravitational-wave signal as a function of time');"
     ],
     "language": "python",
     "metadata": {},
     "outputs": []
    },
    {
     "cell_type": "markdown",
     "metadata": {},
     "source": [
      "We notice a few important features:\n",
      "\n",
      "  - The amplitude is shut off entirely at the beginning, but quickly turns on.  This is done for technical reasons.  Of course, a real gravitational-wave signal would extend fairly regularly very far back in time.\n",
      "  - The amplitude is slowly growing at first, but accelerates to a peak, and then basically shuts off again.  This part is real.  That's the merger and ringdown, where the black holes give off the strongest gravitational waves just as they fall into each other, which happens very suddenly.\n",
      "  - The frequency is slowly increasing at first, but accelerates up to the merger."
     ]
    },
    {
     "cell_type": "markdown",
     "metadata": {},
     "source": [
      "Now, we can also imagine this data as if it describes sound waves, where the plot we just made shows the displacement of the air as a function of time.  In fact, it's quite easy to turn this into a sound.  Evaluate the cell below, but be careful of your ears.  If you can hear the long inspiral at all, the merger will probably sound extremely loud, so be prepared to turn down the volume."
     ]
    },
    {
     "cell_type": "code",
     "collapsed": false,
     "input": [
      "SpinningGW(5.0).Audio()"
     ],
     "language": "python",
     "metadata": {},
     "outputs": []
    },
    {
     "cell_type": "markdown",
     "metadata": {},
     "source": [
      "Notice that the plot we made was for a system of total mass 100 times the mass of the sun, but the sound was for a system of just 5 solar masses.  Play around with different values in the plot and the audio to answer these questions:\n",
      "\n",
      "### Questions\n",
      "\n",
      "  - Can you *hear* the features that you saw in the plot?\n",
      "  - How do those features change as you change the mass?  Amplitude?  Frequency?  Rate of change of amplitude and frequency?\n",
      "  - Can you hear or see any differences between spinning and non-spinning systems?\n",
      "  - What would happen if you changed the distance at which the system was located?"
     ]
    },
    {
     "cell_type": "markdown",
     "metadata": {},
     "source": [
      "<br /><br /><br />\n",
      "\n",
      "# The sound of the detector\n",
      "\n",
      "Unfortunately, these signals are pretty small.  LIGO has to be extremely sensitive to capture them at all, but it also has to deal with sources of noise closer to home.  In fact, the noise in LIGO is almost overwhelming.\n",
      "\n",
      "Run the following cell to load a recording of actual LIGO data."
     ]
    },
    {
     "cell_type": "code",
     "collapsed": false,
     "input": [
      "LIGONoise = Utils.Waveform('Sounds/LIGONoise.dat')"
     ],
     "language": "python",
     "metadata": {},
     "outputs": []
    },
    {
     "cell_type": "markdown",
     "metadata": {},
     "source": [
      "Again, we want to look at and listen to the data:"
     ]
    },
    {
     "cell_type": "code",
     "collapsed": false,
     "input": [
      "plot(LIGONoise.t, LIGONoise.data)\n",
      "xlabel(r'$t$ (seconds)')\n",
      "ylabel(r'$h$ (dimensionless strain)')\n",
      "title(r'LIGO noise as a function of time');"
     ],
     "language": "python",
     "metadata": {},
     "outputs": []
    },
    {
     "cell_type": "code",
     "collapsed": false,
     "input": [
      "LIGONoise.Audio()"
     ],
     "language": "python",
     "metadata": {},
     "outputs": []
    },
    {
     "cell_type": "markdown",
     "metadata": {},
     "source": [
      "The plot looks like a mess, and the data sounds like random noise.  Even worse, look at the size of the noise in the plot -- the scale is bigger than the biggest peak in even our largest waveform.  In fact, we can add one of our waveforms to the noise, and see what it looks (and sounds) like.  This simulates what the LIGO data would have been if there had been a merger while it was recorded:"
     ]
    },
    {
     "cell_type": "code",
     "collapsed": false,
     "input": [
      "SimulatedSignal = Utils.Waveform(LIGONoise) # Make a copy of the noise\n",
      "SimulatedSignal.data = LIGONoise.data + SpinningGW(5.0).data # Add a gravitational waveform to the copy's data\n",
      "plot(SimulatedSignal.t, SimulatedSignal.data)\n",
      "xlabel(r'$t$ (seconds)')\n",
      "ylabel(r'$h$ (dimensionless strain)')\n",
      "title(r'LIGO noise as a function of time, with a waveform added')\n",
      "show() # show the plot before playing the sound\n",
      "SimulatedSignal.Audio()"
     ],
     "language": "python",
     "metadata": {},
     "outputs": []
    },
    {
     "cell_type": "markdown",
     "metadata": {},
     "source": [
      "The waveform is indeed pretty much buried in the noise.  You *might* have been able to hear the merger -- but not very well.  And you certainly couldn't see anything informative in the plot.  The point is you can't be sure what's noise and what's a real signal; maybe that thing you thought you heard was really just a blip in the data.  We know it wasn't just a blip, because we made the data.  But how would a GW astronomer know when looking at real data?\n",
      "\n",
      "So we have a big question: How can we possibly measure gravitational waves in data that's so noisy?"
     ]
    },
    {
     "cell_type": "markdown",
     "metadata": {},
     "source": [
      "<br /><br /><br />\n",
      "\n",
      "# Fourier transforms\n",
      "\n",
      "The first step in understanding how to measure a signal buried in noise is understanding that the noise may seem random, but it is random in very systematic ways.  When you listened to the noise alone, did you hear anything unsteady -- any clicks, pops, or generally sudden noises?  Probably not.  The noise didn't get louder or quieter.  It was basically what we would call \"stationary\".  In this case, it can be extremely useful to look at the noise in another way.\n",
      "\n",
      "You may be familiar with the Fourier transform, which lets us write our noise function $n(t)$ as a sum of sines with different sizes, with all the frequencies that could be in the data:\n",
      "\\begin{equation}\n",
      "  n(t) = \\sum_{f_i} \\left[ \\tilde{n}_{f_i} \\sin(2\\pi f_i t + \\phi_{f_i}) \\right].\n",
      "\\end{equation}\n",
      "The terms to note in this equation are:\n",
      "\n",
      "  - $f_i$, all frequencies that could be in the data\n",
      "  - $\\tilde{n}_{f_i}$, numbers telling us how much of that particular frequency is in our data (the amplitude)\n",
      "  - $\\phi_{f_i}$ are the numbers telling us just when that frequency hits its peak (the phase)\n",
      "\n",
      "This conversion of $n(t)$ to $\\tilde{n}_{f_i}$ and $\\phi_{f_i}$ is called the \"discrete Fourier transform\" or \"Fourier series\".\n",
      "\n",
      "There's also a very quick way of computing it called the \"*fast* Fourier transform\" (FFT).  In fact, in applications, this is by far the most useful way of doing Fourier transforms; if you're doing a Fourier transform on a computer, you almost certainly want to use the FFT to do it.  It's so common that you'll frequently hear people (including me) using \"FFT\" as a synonym for the discrete Fourier transform.\n",
      "\n",
      "To take an example, suppose we have a pure tone &mdash; a signal $s(t)$ that is just one pure frequency.  Let's say that frequency is 440 Hz.  As a function of time, that signal will look and sound like this:"
     ]
    },
    {
     "cell_type": "code",
     "collapsed": false,
     "input": [
      "### Create Waveform object with 440 Hz signal\n",
      "Frequency = 440.0 # Hz\n",
      "Length = 3.0 # seconds\n",
      "PureTone = Utils.Waveform()\n",
      "PureTone.dt = 1.0/float(SamplingFrequency) # Time between samples\n",
      "PureTone.N = int(SamplingFrequency*Length) # Number of samples\n",
      "PureTone.data = sin(2*pi*Frequency*linspace(0.0, Length, PureTone.N, endpoint=False))\n",
      "\n",
      "### Plot the first 1/10 of a second\n",
      "figure()\n",
      "plot(PureTone.t, PureTone.data);\n",
      "ylim(-1.2,1.2)\n",
      "xlim(0, 0.1)\n",
      "xlabel(\"$t$ (seconds)\")\n",
      "ylabel(\"$s$ (arbitrary units)\")\n",
      "title(\"Pure tone as a function of time (for the first 0.1 seconds)\")\n",
      "show()\n",
      "\n",
      "### Play it\n",
      "PureTone.Audio()"
     ],
     "language": "python",
     "metadata": {},
     "outputs": []
    },
    {
     "cell_type": "markdown",
     "metadata": {},
     "source": [
      "When we take the Fourier transform, we'll just get $\\tilde s_{\\text{440 Hz}} = 1$, and all the other\n",
      "$\\tilde{s}_{f_i}=0$:"
     ]
    },
    {
     "cell_type": "code",
     "collapsed": false,
     "input": [
      "### Convert to frequency domain\n",
      "PureToneFFT = np.fft.fft(PureTone.data) / PureTone.N # Take the Fourier transform\n",
      "PureToneFrequencies = PureTone.f # Values of the f_i frequencies\n",
      "\n",
      "### Now plot it:\n",
      "figure()\n",
      "PlotPoints = PureTone.N/2 # show first half of the data (positive frequencies)\n",
      "plot(PureToneFrequencies[:PlotPoints], 2*abs(PureToneFFT[:PlotPoints]));\n",
      "xlim(0,2*Frequency);\n",
      "ylim(-0.1, 1.1);\n",
      "xlabel(\"$f_i$ (Hertz)\");\n",
      "ylabel(\"$\\\\tilde{n}_{f_i}$ (arbitrary units)\");\n",
      "title(\"Amplitude of the Fourier transform of the pure tone\");"
     ],
     "language": "python",
     "metadata": {},
     "outputs": []
    },
    {
     "cell_type": "markdown",
     "metadata": {},
     "source": [
      "Feel free to play with the parameters or add another pure tone, to see how you can change the sound and the FFT."
     ]
    },
    {
     "cell_type": "markdown",
     "metadata": {},
     "source": [
      "## FFT of LIGO noise\n",
      "\n",
      "Of course, sounds we encounter in the real world will be a mixture of many different frequencies, which means there will be lots of different spikes in the Fourier transform.  The noise recorded from LIGO has *lots* of different frequencies in it, so we'll see big spikes all over the place.  Let's take a look:"
     ]
    },
    {
     "cell_type": "code",
     "collapsed": false,
     "input": [
      "### Convert to frequency domain\n",
      "fft_n = LIGONoise.fft() # Take the Fourier transform and save as 'NoiseFFT'\n",
      "f_n = LIGONoise.f # Values of the f_i\n",
      "\n",
      "### Now plot it:\n",
      "loglog(f_n, abs(fft_n))\n",
      "xlim(35.0,2048.0)\n",
      "ylim(ymin=1e-23)\n",
      "xlabel(r\"$f_i$ (Hertz)\")\n",
      "ylabel(r\"$\\tilde{n}_{f_i}$ (dimensionless strain)\")\n",
      "title(\"Amplitude of the Fourier transform of LIGO noise\");"
     ],
     "language": "python",
     "metadata": {},
     "outputs": []
    },
    {
     "cell_type": "markdown",
     "metadata": {},
     "source": [
      "The FFT is still pretty noisy, but we can now see some definite trends and interesting features.  What used to be a mess of data in the time domain has now taken a more structured form in the frequency domain.  The rough idea of detecting gravitational waves is to use the FFT to remove those big spikes from the data, and account for the broader trends.\n",
      "\n",
      "### Questions\n",
      "  - Can you guess where the largest spike comes from?  [Hint: What is its frequency, and what else do you know that has that frequency?]\n",
      "  - There are several very narrow spikes -- just one pixel wide.  Do you know where they come from?\n",
      "  - Other than the largest spike and the narrow spikes, there is another group of spikes.  Can you discern a pattern in them?\n",
      "  - If you ignore all the spikes, what general trends do you see?  Do you know what causes those trends?"
     ]
    },
    {
     "cell_type": "markdown",
     "metadata": {},
     "source": [
      "## FFT of waveforms\n",
      "\n",
      "If we are to use the FFT of the noise, we'll also need the FFT of the gravitational waveform.  So let's compare the FFT of the waveform to the FFT of the noise:"
     ]
    },
    {
     "cell_type": "code",
     "collapsed": false,
     "input": [
      "W = SpinningGW(25.0)\n",
      "fft_s = W.fft()[1:W.N/2]\n",
      "f_s = W.f[1:W.N/2]\n",
      "\n",
      "loglog(f_n, abs(fft_n), label='LIGO noise')\n",
      "loglog(f_s, abs(fft_s), label='Gravitational waveform', lw=3)\n",
      "xlim(35.0, 2048.0)\n",
      "ylim(ymin=1e-24)\n",
      "\n",
      "xlabel(r\"$f_i$ (Hertz)\")\n",
      "ylabel(r\"$\\tilde{n}_{f_i}$ and $\\tilde{s}_{f_i}$ (dimensionless strain)\")\n",
      "legend(loc='upper left')\n",
      "title(\"Amplitude of the Fourier transform of a gravitational waveform compared to LIGO noise\");"
     ],
     "language": "python",
     "metadata": {},
     "outputs": []
    },
    {
     "cell_type": "markdown",
     "metadata": {},
     "source": [
      "The gravitational-wave signal starts of large at low frequencies, and slopes downward.  It starts to level off a little, but then falls off very sharply, rapidly dropping to zero amplitude.  The early downward slope corresponds to the long inspiral, the leveling out corresponds to the merger, and the rapid drop-off corresponds to ringdown.\n",
      "\n",
      "### Questions\n",
      "\n",
      "  - When you listened to the gravitational wave, you heard that it was very quiet and deep in the beginning, and got louder and higher as time went on.  But if you look at the Fourier transform, it's bigger at low frequencies, and smaller at high frequencies.  How does this make sense?\n",
      "  - How does the FFT of the waveform change as you change the mass?\n",
      "  - Compared to the noise, the waveform is still quite small.  What would the FFT look like if we combined the waveform with the noise to simulate a real signal?  Would you be able to tell just from that signal if you were measuring a black-hole merger or just seeing a blip in the data?  Would you be able to tell the difference between a spinning and a non-spinning system?\n"
     ]
    },
    {
     "cell_type": "markdown",
     "metadata": {},
     "source": [
      "<br /><br /><br />\n",
      "\n",
      "# Matched filtering\n",
      "\n",
      "Looking at the FFT gave us some insight into the noise and waveforms, but it's still not enough to tell us whether or not there is a signal in raw data from the detector.  To do that, we'll need to get much better at filtering out the noise.  To do this, we measure the **\"match\"** between the data $d$ and template signal $s$, which filters the data using our knowledge of the expected signal and the typical noise in the detector, and then measures the total power in the filtered result.  If there's a lot of power, then the signal probably really was in our data.\n",
      "\n",
      "An analogy might be helpful.  The bass and treble controls on a stereo control the deep and high-pitched sounds.  Sometimes, you'll find stereos with bass, treble, and mid-range -- the frequency ranges been split up into finer bins.  Fancier stereos will split them up into even finer bins, and have more controls.  You can adjust these \"equalizer\" controls to make certain frequency ranges louder or quieter, depending on whether you want to hear sounds in that frequency or not.\n",
      "\n",
      "A Fourier transform divides the frequencies into as many bins as possible, and matched filtering adjusts each of the corresponding controls.  In fact, for any template signal, matched filtering gives you the best possible way to adjust all of those controls to hear that particular signal.\n",
      "\n",
      "We start out with the amplitude of the Fourier transform of the data, $\\tilde{d}_{f_i}$, and let's just think of one particular frequency for now.  If our expected signal $\\tilde{s}_{f_i}$ is small, we want to ignore this part of the data; if $\\tilde{s}_{f_i}$ is large, we want to accentuate this part of the data.  So the first step in our filter is to take the product\n",
      "\\begin{equation}\n",
      "  \\tilde{d}_{f_i} \\tilde{s}_{f_i}.\n",
      "\\end{equation}\n",
      "If the signal is really in our data, then this picks out the meaningful part of that data.\n",
      "\n",
      "On the other hand, if the detector's noise at this frequency is large, we expect the data to be large, but useless garbage.  So we want to ignore the data whenever there's a lot of noise.  To do that, we divide by the noise at this frequency $\\tilde{n}_{f_i}$.  But we don't want to just level the playing field for the data; we want to really eliminate that bad data even from the signal &mdash; so we divide by *two* powers of the noise:\n",
      "\\begin{equation}\n",
      "  \\frac{\\tilde{d}_{f_i} \\tilde{s}_{f_i}} {\\tilde{n}_{f_i}^2}.\n",
      "\\end{equation}\n",
      "Using the analogy with controls on the stereo, if the treble is really loud and noisy for example, we might turn it down so we can hear the other parts.  This is the same idea\n",
      "\n",
      "This isn't quite the whole story, though, because the Fourier transform really involves two pieces of information: the amplitude and the phase.  The phase $\\phi_{f_i}$ tells us exactly where the sine with frequency $f_i$ hits its peak.  And if $d$ hits its peak when $s$ hits a trough, we don't really have the same signal.  So we bring in one more factor to our filter:\n",
      "\\begin{equation}\n",
      "  \\frac{\\tilde{d}_{f_i} \\tilde{s}_{f_i}} {\\tilde{n}_{f_i}^2} \\cos \\delta\\phi_{f_i},\n",
      "\\end{equation}\n",
      "where $\\delta \\phi_{f_i}$ is the difference in the phases $\\phi_{f_i}$ of the Fourier transforms of $d$ and $s$ at this frequency.  Now, for each $f_i$, the quantity above is large whenever the noise is small and the expected signal agrees with the observed data &mdash; as long as our expected signal is really in the data.\n",
      "\n",
      "And of course, all of this was just for one frequency, and we want all frequencies to be the same if the signal was really in the data.  So we sum the expression above for all frequencies we measured.\n",
      "\\begin{equation}\n",
      "  \\sum_{f_{i}} \\frac{\\tilde{d}_{f_{i}}\\, \\tilde{s}_{f_{i}}} {\\tilde{n}_{f_{i}}^{2}}\\,\n",
      "  \\cos \\left[ \\delta\\phi_{f_i} \\right].\n",
      "\\end{equation}\n",
      "\n",
      "Finally, we have no idea when a real astrophysical merger happened, so maybe our template was placed at the wrong time.  We can use the same template, but simply shift it by some time offset $\\delta t$.  It turns out that this causes a very simple change to our formula, and we define the \"match\" to be\n",
      "\\begin{equation}\n",
      "  \\big\\langle d \\big| s \\big\\rangle_{\\delta t}\n",
      "  = \\sum_{f_{i}} \\frac{\\tilde{d}_{f_{i}}\\, \\tilde{s}_{f_{i}}} {\\tilde{n}_{f_{i}}^{2}}\\,\n",
      "  \\cos \\left[ \\delta\\phi_{f_i} + f_{i}\\, \\delta t \\right].\n",
      "\\end{equation}\n",
      "This is the key quantity we measure when trying to detect gravitational waves.  Customarily, we also normalize the data so that the maximum possible value of the match is 1.\n",
      "\n",
      "Once you've read this far, take the time to ask any questions and discuss this concept to make sure you understand what's going on."
     ]
    },
    {
     "cell_type": "markdown",
     "metadata": {},
     "source": [
      "## Practice with simulated data\n",
      "\n",
      "We can practice matched filtering by injecting a waveform into the LIGO noise to make simulated data (like we did above), and the searching with different templates to see if we can make a detection.  Just for fun, we'll shift the time a little bit, to see if we can still find it.  So we start off by making up a template and some simulated data."
     ]
    },
    {
     "cell_type": "code",
     "collapsed": false,
     "input": [
      "# Make up our various signals\n",
      "TemplateSignal = NonspinningGW(5.0) # Template signal\n",
      "SimulatedSignal = Utils.Waveform(LIGONoise) # Make a copy of the noise\n",
      "SimulatedSignal.data += NonspinningGW(5.0).Roll(1.5).data # Add a GW to the copy's data, and offset it by 1.5 seconds"
     ],
     "language": "python",
     "metadata": {},
     "outputs": []
    },
    {
     "cell_type": "markdown",
     "metadata": {},
     "source": [
      "First, let's see what the matched filter of the template looks like against the template itself."
     ]
    },
    {
     "cell_type": "code",
     "collapsed": false,
     "input": [
      "Match = abs(Utils.Match(TemplateSignal, TemplateSignal, LIGONoise))\n",
      "\n",
      "max_index = argmax(Match)\n",
      "max_value = Match[max_index]\n",
      "max_time = TemplateSignal.t[max_index]\n",
      "display(Latex(r'Maximum value of match is ${0}$ at $\\delta t={1}$ seconds'.format(max_value, max_time)))\n",
      "\n",
      "plot(TemplateSignal.t, Match)\n",
      "xlim(TemplateSignal.t[0]-1.0,TemplateSignal.t[-1]+1.0)\n",
      "xlabel(r'$\\delta t$ (seconds)')\n",
      "ylabel(r'$\\langle t | t \\rangle_{\\delta t}$ (dimensionless)')\n",
      "title(r'Match between the template and itself');"
     ],
     "language": "python",
     "metadata": {},
     "outputs": []
    },
    {
     "cell_type": "markdown",
     "metadata": {},
     "source": [
      "There are lots of little spikes, but the biggest one is way above the background (about 5 times larger than most spikes), at $\\delta t=0$, and goes very close to 1.0 (which denotes a perfect match).  This makes sense, because we expect to get perfect overlap between the template and itself when we don't shift the template in time at all.\n",
      "\n",
      "Next, let's see what happens if we look for a match in pure noise."
     ]
    },
    {
     "cell_type": "code",
     "collapsed": false,
     "input": [
      "Match = abs(Utils.Match(LIGONoise, TemplateSignal, LIGONoise))\n",
      "\n",
      "max_index = argmax(Match)\n",
      "max_value = Match[max_index]\n",
      "max_time = TemplateSignal.t[max_index]\n",
      "display(Latex(r'Maximum value of match is ${0}$ at $\\delta t={1}$ seconds'.format(max_value, max_time)))\n",
      "\n",
      "plot(TemplateSignal.t, Match)\n",
      "xlim(TemplateSignal.t[0]-1.0,TemplateSignal.t[-1]+1.0)\n",
      "xlabel(r'$\\delta t$ (seconds)')\n",
      "ylabel(r'$\\langle t | n \\rangle_{\\delta t}$ (dimensionless)')\n",
      "title(r'Match between the template and pure noise');"
     ],
     "language": "python",
     "metadata": {},
     "outputs": []
    },
    {
     "cell_type": "markdown",
     "metadata": {},
     "source": [
      "Here, we see a maximum value (of course), but it's not very convincingly larger than the background.  It doesn't look purely random, because there's a bunch of larger spikes around $\\delta t \\approx 0.5$ seconds.  It's not too important, but that turns out to be related to the fact that the merger is 0.5 seconds before the end of the template.  The point is, if we saw this data in a gravitational-wave detector, we wouldn't get too excited; a match of 0.01455 is no reason to buy a ticket to Stockholm.\n",
      "\n",
      "Finally, we come to the comparison between our simulated signal and the template."
     ]
    },
    {
     "cell_type": "code",
     "collapsed": false,
     "input": [
      "Match = abs(Utils.Match(SimulatedSignal, TemplateSignal, LIGONoise))\n",
      "\n",
      "max_index = argmax(Match)\n",
      "max_value = Match[max_index]\n",
      "max_time = TemplateSignal.t[max_index]\n",
      "display(Latex(r'Maximum value of match is ${0}$ at $\\delta t={1}$ seconds'.format(max_value, max_time)))\n",
      "\n",
      "plot(TemplateSignal.t, Match)\n",
      "xlim(TemplateSignal.t[0]-1.0,TemplateSignal.t[-1]+1.0)\n",
      "xlabel(r'$\\delta t$ (seconds)')\n",
      "ylabel(r'$\\langle t | n \\rangle_{\\delta t}$ (dimensionless)')\n",
      "title(r'Match between the template and pure noise');"
     ],
     "language": "python",
     "metadata": {},
     "outputs": []
    },
    {
     "cell_type": "markdown",
     "metadata": {},
     "source": [
      "Here, we see a pretty large spike.  It's not all the way up to 1.0, but it's still way above the others.  And it's at $\\delta t = 1.5$ seconds, which is precisely the offset that we put into our simulated data."
     ]
    },
    {
     "cell_type": "markdown",
     "metadata": {},
     "source": [
      "### Questions\n",
      "\n",
      "  - If you didn't know that we had injected a signal into the data, but you saw the plot above, how could you argue that you had observed a gravitational wave?\n",
      "  - What happens if you leave the injected waveform in the simulated data the same, but change the template you use to search for it?\n",
      "  - Can you use the matched filter to tell whether a signal is spinning or non-spinning?\n",
      "  - Can you use it to find the mass of the signal?"
     ]
    },
    {
     "cell_type": "markdown",
     "metadata": {},
     "source": [
      "<br /><br /><br />\n",
      "\n",
      "# Running a search\n",
      "\n",
      "Now, it's your turn to run a search and estimate parameters for whatever you detect.  Your challenge is to estimate the mass of the system, find the time offset, and figure out whether the system is spinning or not.\n",
      "\n",
      "An unknown signal has been buried in noise for you.  Load it with the following command:"
     ]
    },
    {
     "cell_type": "code",
     "collapsed": false,
     "input": [
      "UnknownData = Utils.Waveform('UnknownData.dat')"
     ],
     "language": "python",
     "metadata": {},
     "outputs": []
    },
    {
     "cell_type": "markdown",
     "metadata": {},
     "source": [
      "No two computers get the same data, so don't expect your neighbors' results to have any effect on you.  But as a hint, we've chosen the masses to be multiples of 5, from 5 to 100.\n",
      "\n",
      "Now you can run your search.  You might want to use some code like the following.  You might also want to use some of the code from above to make your job easier."
     ]
    },
    {
     "cell_type": "code",
     "collapsed": false,
     "input": [
      "Match = abs(Utils.Match(UnknownData, NonspinningGW(7.5), LIGONoise))\n",
      "\n",
      "plot(UnknownData.t, Match)"
     ],
     "language": "python",
     "metadata": {},
     "outputs": []
    },
    {
     "cell_type": "code",
     "collapsed": false,
     "input": [],
     "language": "python",
     "metadata": {},
     "outputs": []
    }
   ],
   "metadata": {}
  }
 ]
}