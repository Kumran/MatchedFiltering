{
 "cells": [
  {
   "cell_type": "markdown",
   "metadata": {},
   "source": [
    "# Layout and Styling of Jupyter widgets\n",
    "\n",
    "This notebook presents how to layout and style Jupyter interactive widgets to build rich and *reactive* widget-based applications."
   ]
  },
  {
   "cell_type": "markdown",
   "metadata": {},
   "source": [
    "## The `layout` attribute.\n",
    "\n",
    "Every Jupyter interactive widget has a `layout` attribute exposing a number of css properties that impact how widgets are laid out.\n",
    "\n",
    "### Exposed css properties\n",
    "\n",
    "<div class=\"alert alert-info\" style=\"margin: 20px\">\n",
    "The following properties map to the values of the css properties of the same name (underscores being replaced with dashes), applied to the top DOM elements of the corresponding widget.\n",
    "</div>\n",
    "\n",
    "\n",
    "** Sizes **\n",
    "- `height`\n",
    "- `width`\n",
    "- `max_height`\n",
    "- `max_width`\n",
    "- `min_height`\n",
    "- `min_width`\n",
    "\n",
    "** Display **\n",
    "\n",
    "- `visibility`\n",
    "- `display`\n",
    "- `overflow`\n",
    "\n",
    "** Box model **\n",
    "- `border` \n",
    "- `margin`\n",
    "- `padding`\n",
    "\n",
    "** Positioning **\n",
    "- `top`\n",
    "- `left`\n",
    "- `bottom`\n",
    "- `right`\n",
    "\n",
    "** Flexbox **\n",
    "- `order`\n",
    "- `flex_flow`\n",
    "- `align_items`\n",
    "- `flex`\n",
    "- `align_self`\n",
    "- `align_content`\n",
    "- `justify_content`\n",
    "\n",
    "\n",
    "### Shorthand css properties\n",
    "\n",
    "You may have noticed that certain css properties such as `margin-[top/right/bottom/left]` seem to be missing. The same holds for `padding-[top/right/bottom/left]` etc.\n",
    "\n",
    "In fact, you can atomically specify `[top/right/bottom/left]` margins via the `margin` attribute alone by passing the string\n",
    "\n",
    "```\n",
    "margin: 100px 150px 100px 80px;\n",
    "```\n",
    "\n",
    "for a respectively `top`, `right`, `bottom` and `left` margins of  `100`, `150`, `100` and `80` pixels.\n",
    "\n",
    "Similarly, the `flex` attribute can hold values for `flex-grow`, `flex-shrink` and `flex-basis`. The `border` attribute is a shorthand property for `border-width`, `border-style (required)`, and `border-color`."
   ]
  },
  {
   "cell_type": "markdown",
   "metadata": {},
   "source": [
    "### Simple examples"
   ]
  },
  {
   "cell_type": "markdown",
   "metadata": {},
   "source": [
    "The following example shows how to resize a `Button` so that its views have a height of `80px` and a width of `50%` of the available space:"
   ]
  },
  {
   "cell_type": "code",
   "execution_count": 1,
   "metadata": {
    "collapsed": true
   },
   "outputs": [],
   "source": [
    "from ipywidgets import *"
   ]
  },
  {
   "cell_type": "code",
   "execution_count": 4,
   "metadata": {
    "collapsed": false
   },
   "outputs": [],
   "source": [
    "s = Button(description='(50% width, 80px height) button')\n",
    "s.layout.width = '50%'\n",
    "s.layout.height = '80px'\n",
    "s"
   ]
  },
  {
   "cell_type": "markdown",
   "metadata": {},
   "source": [
    "The `layout` property can be shared amongst multiple widgets and assigned directly."
   ]
  },
  {
   "cell_type": "code",
   "execution_count": 5,
   "metadata": {
    "collapsed": false
   },
   "outputs": [],
   "source": [
    "i = Button(description='Another button with the same layout', layout=s.layout)\n",
    "i"
   ]
  },
  {
   "cell_type": "markdown",
   "metadata": {},
   "source": [
    "### More Styling (colors, inner-widget details)\n",
    "\n",
    "The `layout` attribute only exposes layout-related css properties for the top-level DOM element of widgets. Individual widgets may expose more styling-related properties, or none. For example, the `Button` widget has a `button_style` attribute that may take 5 different values:\n",
    "\n",
    " - `'primary'`\n",
    " - `'success'`\n",
    " - `'info'`\n",
    " - `'warning'`\n",
    " - `'danger'`\n",
    "\n",
    "besides the default empty string ''."
   ]
  },
  {
   "cell_type": "code",
   "execution_count": 6,
   "metadata": {
    "collapsed": false
   },
   "outputs": [],
   "source": [
    "Button(description='Danger Button', button_style='danger')"
   ]
  },
  {
   "cell_type": "markdown",
   "metadata": {},
   "source": [
    "### Natural sizes, and arangements using HBox and VBox\n",
    "\n",
    "Most of the core-widgets have \n",
    "- a natural width that is a multiple of `148` pixels\n",
    "- a natural height of `32` pixels or a multiple of that number.\n",
    "- a default margin of `2` pixels\n",
    "\n",
    "which will be the ones used when it is not specified in the `layout` attribute.\n",
    "\n",
    "This allows simple layouts based on the `HBox` and `VBox` helper functions to align naturally:"
   ]
  },
  {
   "cell_type": "code",
   "execution_count": 7,
   "metadata": {
    "collapsed": false
   },
   "outputs": [],
   "source": [
    "words = (\"Lorem ipsum dolor sit amet, consectetur adipiscing elit, sed \" +\n",
    "         \"do eiusmod tempor incididunt ut labore et dolore magna aliqua.\").split(' ')\n",
    "items = [Button(description=w) for w in words]\n",
    "\n",
    "HBox([VBox([items[0], items[1]]), VBox([items[2], items[3]])])"
   ]
  },
  {
   "cell_type": "markdown",
   "metadata": {},
   "source": [
    "### Latex"
   ]
  },
  {
   "cell_type": "markdown",
   "metadata": {},
   "source": [
    "Widgets such as sliders and text inputs have a description attribute that can render Latex Equations. The `Label` widget also renders Latex equations."
   ]
  },
  {
   "cell_type": "code",
   "execution_count": 8,
   "metadata": {
    "collapsed": false
   },
   "outputs": [],
   "source": [
    "IntSlider(description='$\\int_0^t f$')"
   ]
  },
  {
   "cell_type": "code",
   "execution_count": 9,
   "metadata": {
    "collapsed": false
   },
   "outputs": [],
   "source": [
    "Label(value='$e=mc^2$')"
   ]
  },
  {
   "cell_type": "markdown",
   "metadata": {},
   "source": [
    "You may have noticed that the slider length is shorter in presence of a description. This because the description is added *inside* of the Slider total length. You **cannot** change the width of the internal description field. If you need more flexibility to layout sliders and captions, you should use a combination of `Slider` and `Label` widgets arranged in a layout."
   ]
  },
  {
   "cell_type": "code",
   "execution_count": 10,
   "metadata": {
    "collapsed": false
   },
   "outputs": [],
   "source": [
    "HBox([Label('A too long description'), IntSlider()])"
   ]
  },
  {
   "cell_type": "markdown",
   "metadata": {},
   "source": [
    "### Number formatting\n",
    "\n",
    "Sliders have a readout field which can be formatted using Python's *Format Specification Mini-Language*: https://docs.python.org/3/library/string.html#format-specification-mini-language. If the space available for the readout is too narrow for the string representation of the slider value, a different styling is applied to show that not all digits are visible."
   ]
  },
  {
   "cell_type": "markdown",
   "metadata": {},
   "source": [
    "## The Flexbox layout\n",
    "\n",
    "In fact, the `HBox` and `VBox` helpers used above are functions returning instances of the `Box` widget with specific options.\n",
    "\n",
    "The `Box` widgets enables the entire CSS Flexbox spec, enabling rich reactive layouts in the Jupyter notebook. It aims at providing an efficient way to lay out, align and distribute space among items in a container.\n",
    "\n",
    "Again, the whole Flexbox spec is exposed via the `layout` attribute of the container widget (`Box`) and the contained items. One may share the same `layout` attribute among all the contained items.\n",
    "\n",
    "### Aknowledgement\n",
    "\n",
    "The following tutorial on the Flexbox layout follows the lines of the article *A Complete Guide to Flexbox* by Chris Coyier available here: https://css-tricks.com/snippets/css/a-guide-to-flexbox/\n",
    "\n",
    "### Basics and terminology\n",
    "\n",
    "Since flexbox is a whole module and not a single property, it involves a lot of things including its whole set of properties. Some of them are meant to be set on the container (parent element, known as \"flex container\") whereas the others are meant to be set on the children (said \"flex items\").\n",
    "\n",
    "If regular layout is based on both block and inline flow directions, the flex layout is based on \"flex-flow directions\". Please have a look at this figure from the specification, explaining the main idea behind the flex layout.\n",
    "\n",
    "![Flexbox](./images/flexbox.png)\n",
    "\n",
    "Basically, items will be laid out following either the `main axis` (from `main-start` to `main-end`) or the `cross axis` (from `cross-start` to `cross-end`).\n",
    "\n",
    "- `main axis` - The main axis of a flex container is the primary axis along which flex items are laid out. Beware, it is not necessarily horizontal; it depends on the flex-direction property (see below).\n",
    "- `main-start | main-end` - The flex items are placed within the container starting from main-start and going to main-end.\n",
    "- `main size` - A flex item's width or height, whichever is in the main dimension, is the item's main size. The flex item's main size property is either the ‘width’ or ‘height’ property, whichever is in the main dimension.\n",
    "cross axis - The axis perpendicular to the main axis is called the cross axis. Its direction depends on the main axis direction.\n",
    "- `cross-start | cross-end` - Flex lines are filled with items and placed into the container starting on the cross-start side of the flex container and going toward the cross-end side.\n",
    "- `cross size` - The width or height of a flex item, whichever is in the cross dimension, is the item's cross size. The cross size property is whichever of ‘width’ or ‘height’ that is in the cross dimension.\n",
    "\n",
    "### Properties of the parent\n",
    "\n",
    "![Container](./images/flex-container.svg)\n",
    "\n",
    "- `display` (must be equal to 'flex' or 'inline-flex')\n",
    "\n",
    "  This defines a flex container (inline or block).\n",
    "- `flex-flow` **(shorthand for two properties)**\n",
    "\n",
    "   This is a shorthand `flex-direction` and `flex-wrap` properties, which together define the flex container's main and cross axes. Default is `row nowrap`.\n",
    "\n",
    "    - `flex-direction` (row | row-reverse | column | column-reverse)\n",
    "    \n",
    "      This establishes the main-axis, thus defining the direction flex items are placed in the flex container. Flexbox is (aside from optional wrapping) a single-direction layout concept. Think of flex items as primarily laying out either in horizontal rows or vertical columns.\n",
    "      ![Direction](./images/flex-direction1.svg)\n",
    "    \n",
    "    - `flex-wrap` (nowrap | wrap | wrap-reverse)\n",
    "      \n",
    "      By default, flex items will all try to fit onto one line. You can change that and allow the items to wrap as needed with this property. Direction also plays a role here, determining the direction new lines are stacked in.\n",
    "      ![Wrap](./images/flex-wrap.svg)\n",
    "\n",
    "- `justify-content` (flex-start | flex-end | center | space-between | space-around)\n",
    "\n",
    "  This defines the alignment along the main axis. It helps distribute extra free space left over when either all the flex items on a line are inflexible, or are flexible but have reached their maximum size. It also exerts some control over the alignment of items when they overflow the line.\n",
    "  ![Justify](./images/justify-content.svg)\n",
    "\n",
    "- `align-items` (flex-start | flex-end | center | baseline | stretch)\n",
    "\n",
    "   This defines the default behaviour for how flex items are laid out along the cross axis on the current line. Think of it as the justify-content version for the cross-axis (perpendicular to the main-axis).\n",
    "   ![Items](./images/align-items.svg)\n",
    "   \n",
    "- `align-content` (flex-start | flex-end | center | baseline | stretch)\n",
    "\n",
    "   This aligns a flex container's lines within when there is extra space in the cross-axis, similar to how justify-content aligns individual items within the main-axis.\n",
    "   ![Items](./images/align-content.svg)\n",
    "\n",
    "  **Note**: this property has no effect when there is only one line of flex items.\n",
    "\n",
    "### Properties of the items\n",
    "\n",
    "![Item](./images/flex-items.svg)\n",
    "\n",
    "The flexbox-related css properties of the items have no impact if the parent element is not a flexbox container (i.e. has a `display` attribute equal to `flex` or `inline-flex`).\n",
    "\n",
    "\n",
    "- `order`\n",
    "\n",
    "   By default, flex items are laid out in the source order. However, the order property controls the order in which they appear in the flex container.\n",
    "   <img src=\"./images/order-2.svg\" alt=\"Order\" style=\"width: 500px;\"/>\n",
    "   \n",
    "- `flex` **(shorthand for three properties)**\n",
    "   This is the shorthand for flex-grow, flex-shrink and flex-basis combined. The second and third parameters (flex-shrink and flex-basis) are optional. Default is `0 1 auto`.\n",
    "   \n",
    "    - `flex-grow`\n",
    "    \n",
    "      This defines the ability for a flex item to grow if necessary. It accepts a unitless value that serves as a proportion. It dictates what amount of the available space inside the flex container the item should take up.\n",
    "\n",
    "      If all items have flex-grow set to 1, the remaining space in the container will be distributed equally to all children. If one of the children a value of 2, the remaining space would take up twice as much space as the others (or it will try to, at least).\n",
    "        ![Grow](./images/flex-grow.svg)\n",
    "      \n",
    "    - `flex-shrink`\n",
    "    \n",
    "      This defines the ability for a flex item to shrink if necessary.\n",
    "      \n",
    "    - `flex-basis`\n",
    "    \n",
    "      This defines the default size of an element before the remaining space is distributed. It can be a length (e.g. `20%`, `5rem`, etc.) or a keyword. The `auto` keyword means *\"look at my width or height property\"*.\n",
    "      \n",
    "- `align-self`\n",
    "\n",
    "  This allows the default alignment (or the one specified by align-items) to be overridden for individual flex items.\n",
    "\n",
    "  ![Align](./images/align-self.svg)\n",
    "\n",
    "### The VBox and HBox helpers\n",
    "\n",
    "The `VBox` and `HBox` helper provide simple defaults to arrange child widgets in Vertical and Horizontal boxes.\n",
    "\n",
    "```Python\n",
    "def VBox(*pargs, **kwargs):\n",
    "    \"\"\"Displays multiple widgets vertically using the flexible box model.\"\"\"\n",
    "    box = Box(*pargs, **kwargs)\n",
    "    box.layout.display = 'flex'\n",
    "    box.layout.flex_flow = 'column'\n",
    "    box.layout.align_items = 'stretch'\n",
    "    return box\n",
    "\n",
    "def HBox(*pargs, **kwargs):\n",
    "    \"\"\"Displays multiple widgets horizontally using the flexible box model.\"\"\"\n",
    "    box = Box(*pargs, **kwargs)\n",
    "    box.layout.display = 'flex'\n",
    "    box.layout.align_items = 'stretch'\n",
    "    return box\n",
    "```\n",
    "\n",
    "\n",
    "### Examples"
   ]
  },
  {
   "cell_type": "markdown",
   "metadata": {},
   "source": [
    "**Four buttons in a `VBox`. Items stretch to the maximum width, in a vertical box taking `50%` of the available space.**"
   ]
  },
  {
   "cell_type": "code",
   "execution_count": 13,
   "metadata": {
    "collapsed": false
   },
   "outputs": [],
   "source": [
    "items_layout = Layout(flex='0 0 auto',\n",
    "                      width='auto')     # override the default width of the button to 'auto' to let the button grow\n",
    "\n",
    "box_layout = Layout(display='flex',\n",
    "                    flex_flow='column', \n",
    "                    align_items='stretch', \n",
    "                    border='solid',\n",
    "                    width='50%')\n",
    "\n",
    "items = [Button(description=w, layout=items_layout, button_style='danger') for w in words[:4]]\n",
    "box = Box(children=items, layout=box_layout)\n",
    "box"
   ]
  },
  {
   "cell_type": "markdown",
   "metadata": {
    "collapsed": true
   },
   "source": [
    "**Three buttons in an HBox. Items flex proportionaly to their weight.**"
   ]
  },
  {
   "cell_type": "code",
   "execution_count": 14,
   "metadata": {
    "collapsed": false
   },
   "outputs": [],
   "source": [
    "items_layout = Layout(flex='1 1 auto', width='auto')     # override the default width of the button to 'auto' to let the button grow\n",
    "\n",
    "items = [\n",
    "    Button(description='weight=1'),\n",
    "    Button(description='weight=2', layout=Layout(flex='2 1 auto', width='auto')),\n",
    "    Button(description='weight=1'),\n",
    " ]\n",
    "\n",
    "box_layout = Layout(display='flex',\n",
    "                    flex_flow='row', \n",
    "                    align_items='stretch', \n",
    "                    border='solid',\n",
    "                    width='50%')\n",
    "box = Box(children=items, layout=box_layout)\n",
    "box"
   ]
  },
  {
   "cell_type": "markdown",
   "metadata": {},
   "source": [
    "**A more advanced example: a reactive form.**\n",
    "\n",
    "The form is a `VBox` of width '50%'. Each row in the VBox is an HBox, that justifies the content with space between.."
   ]
  },
  {
   "cell_type": "code",
   "execution_count": 15,
   "metadata": {
    "collapsed": false
   },
   "outputs": [],
   "source": [
    "label_layout = Layout()\n",
    "\n",
    "form_item_layout = Layout(\n",
    "    display='flex',\n",
    "    flex_flow='row',\n",
    "    justify_content='space-between'\n",
    ")\n",
    "\n",
    "form_items = [\n",
    "    Box([Label(value='Age of the captain'), IntSlider(min=40, max=60)], layout=form_item_layout),\n",
    "    Box([Label(value='Egg style'), \n",
    "         Dropdown(options=['Scrambled', 'Sunny side up', 'Over easy'])], layout=form_item_layout),\n",
    "    Box([Label(value='Ship size'), \n",
    "         FloatText()], layout=form_item_layout),\n",
    "    Box([Label(value='Information'), \n",
    "         Textarea()], layout=form_item_layout)\n",
    "]\n",
    "\n",
    "form = Box(form_items, layout=Layout(\n",
    "    display='flex',\n",
    "    flex_flow='column',\n",
    "    border='solid 2px',\n",
    "    align_items='stretch',\n",
    "    width='50%'\n",
    "))\n",
    "form"
   ]
  },
  {
   "cell_type": "code",
   "execution_count": null,
   "metadata": {
    "collapsed": true
   },
   "outputs": [],
   "source": []
  }
 ],
 "metadata": {
  "kernelspec": {
   "display_name": "Python [Root]",
   "language": "python",
   "name": "Python [Root]"
  },
  "language_info": {
   "codemirror_mode": {
    "name": "ipython",
    "version": 3
   },
   "file_extension": ".py",
   "mimetype": "text/x-python",
   "name": "python",
   "nbconvert_exporter": "python",
   "pygments_lexer": "ipython3",
   "version": "3.5.2"
  },
  "widgets": {
   "state": {
    "008bcab94e6e4dc1a6387a58ab496fd8": {
     "views": []
    },
    "0a0991efe5904342a7a56553c1aca7bb": {
     "views": [
      {
       "cell_index": 9
      }
     ]
    },
    "0b97afa81322479dac81a09b52402e24": {
     "views": []
    },
    "0c26c6809d0a4df1a9abd2078ee26265": {
     "views": []
    },
    "1080c91cbd9b41628938428b2123f48a": {
     "views": []
    },
    "130fc9b8b0ed454589035fb53cac3a57": {
     "views": []
    },
    "1331dd0d4ee34a34bfbcb531df6fd433": {
     "views": []
    },
    "1418e7371a9d4beabff7010d2ebb73f4": {
     "views": []
    },
    "15be5e5fd69f44e9b51e7f9d7a5559c7": {
     "views": []
    },
    "173188238dd64f97a1b54fbc8578d385": {
     "views": []
    },
    "1866a598105348f987a49252bce956d5": {
     "views": []
    },
    "1adbe464a5d54fe58acac6552db6a5d5": {
     "views": []
    },
    "1e7ea8caabe2412982aea2c70bc33d40": {
     "views": []
    },
    "1f26e6a56f5442fbab90fa0867066488": {
     "views": []
    },
    "2035c6d5cdce4c8fa51e76c88b9bb037": {
     "views": []
    },
    "20f70c9e912d412faba3f9e686bf39e0": {
     "views": []
    },
    "2419ae03bac64dfca614dfbb4760ff4c": {
     "views": []
    },
    "24302e2d2d0240b0bb5cf30d4f8cae0a": {
     "views": []
    },
    "2466174ce68348b2b2e591e97ae7a126": {
     "views": []
    },
    "24a31e238b1c407881bf88eb567b51a7": {
     "views": []
    },
    "281ad2b62675417bb6c8a0c657494a46": {
     "views": []
    },
    "297c639059364240956bbc368d6de64a": {
     "views": [
      {
       "cell_index": 25
      }
     ]
    },
    "298ad63531fd4b209de99e7c453112eb": {
     "views": []
    },
    "29d2550c42d64be5b75361b988b9f2dc": {
     "views": []
    },
    "2c35359f77ca4d85942a4cf510c08388": {
     "views": []
    },
    "2d852b6aa8b14ad6b92b560187fa5b2f": {
     "views": [
      {
       "cell_index": 15
      }
     ]
    },
    "3288e92197de40b4a6895bc86952cf97": {
     "views": []
    },
    "35439bbf8f4b4a1283fee53e370ad20d": {
     "views": []
    },
    "367814c2d77740d7aa79c2f026f7c7c1": {
     "views": []
    },
    "3a076f057b8e4c61a37051c96d1a0db4": {
     "views": []
    },
    "3ef7b49f36db41588aefdead7ff89cf6": {
     "views": []
    },
    "40fc94b67c3f4c94824edcd744f7b6db": {
     "views": []
    },
    "41b21c3e3bc647679605adab6d6b679b": {
     "views": []
    },
    "44a22bda70a64f4fb01e444d8dddd0ae": {
     "views": [
      {
       "cell_index": 21
      }
     ]
    },
    "45d0af12fd9640289a06f3a709b59c63": {
     "views": []
    },
    "47d54854d9334c7898958d95b75caac7": {
     "views": []
    },
    "4c17c692326c409583e8a95efa216115": {
     "views": []
    },
    "4fcd3ebe864440aea92e93025e1df486": {
     "views": []
    },
    "508976e44af84a0ab3c283ffc4ae3850": {
     "views": []
    },
    "5192ab7e6801488f91ed66d6372aa1f5": {
     "views": []
    },
    "5359a0e308ad4cb2b8caf6ba744a5e9d": {
     "views": []
    },
    "53a427257463494994db9cadb57090ee": {
     "views": []
    },
    "5763757e63bc4eb88cf0af6041509f2d": {
     "views": []
    },
    "60b927c2957a4787a47e38a3ca5e1ff8": {
     "views": []
    },
    "67728d1892c2412089ab390ddaef2b57": {
     "views": []
    },
    "68ecd72d1418477182ac23e3f9489386": {
     "views": [
      {
       "cell_index": 11
      }
     ]
    },
    "696ebf018d46457d94bdbf8b2cbbc0a1": {
     "views": []
    },
    "706c77e38e014138becfa60f1c3751fb": {
     "views": []
    },
    "77d4e9931ea94a6798f8ce44061d4ba3": {
     "views": [
      {
       "cell_index": 23
      }
     ]
    },
    "7990816b483841378d872797c5d3db35": {
     "views": []
    },
    "7b1403925fcf4541992ed31dc35cbf9c": {
     "views": []
    },
    "7dadc94bcb2a40958d63c5aa01d10cff": {
     "views": []
    },
    "7e526398045145cb8da3b3a4b91a47a5": {
     "views": []
    },
    "7eed88e5710c4114b7b9e89550403f47": {
     "views": []
    },
    "80b57eab12e14e4999be772112cf0104": {
     "views": []
    },
    "851ab34494a849d084098ff7ec235a2d": {
     "views": []
    },
    "875d223ccba6422987d5261f1e7a2cb2": {
     "views": []
    },
    "8dabed44fab742debec9c36344639e75": {
     "views": []
    },
    "8eb59a1b526e4ec2bf984a36eb08c3b3": {
     "views": [
      {
       "cell_index": 14
      }
     ]
    },
    "8f356292938047b4810eb78293cd8fa2": {
     "views": []
    },
    "92409bad837040bf8c8f3befd3a170a2": {
     "views": []
    },
    "94a3a3e3dd874f52b72da04ef487bd40": {
     "views": []
    },
    "94ab1ddd8a0f40fe9386ff8fa0e35f03": {
     "views": []
    },
    "95a34e24dad24e2e9558f87370072490": {
     "views": []
    },
    "96be7748e98d4ab2b2cfde9ebf29a801": {
     "views": []
    },
    "96ca19b61a244bf9982016558ddd99b4": {
     "views": []
    },
    "978ca84709014393877ff05d9396dc8c": {
     "views": []
    },
    "98c1206038df468686e4dd530e59813d": {
     "views": []
    },
    "98c782ada7144e8b9f5391494772f648": {
     "views": []
    },
    "999fd583ca594d408eb79b469c4e8b19": {
     "views": []
    },
    "9ba3302e347748a4902ca7018e6d1c90": {
     "views": []
    },
    "9c813d86e7b64979950dff7b8104d397": {
     "views": [
      {
       "cell_index": 17
      }
     ]
    },
    "9d443250b0d54aa8887a1592aa510bf1": {
     "views": [
      {
       "cell_index": 7
      }
     ]
    },
    "a096fea717864da9baa4dd1a30e2d4fc": {
     "views": []
    },
    "a0c5dc5173864a71be344f5244d89f98": {
     "views": []
    },
    "a366f15ec3f14c1b9dc6f8b982d8ba22": {
     "views": []
    },
    "a5aec38fe10348f0bde183461ac2fab9": {
     "views": []
    },
    "a7634b702ba84264ae3d90520ab36c5e": {
     "views": []
    },
    "abb52ec1c6594231be02cb15b8eaa3d8": {
     "views": []
    },
    "ae019effbcb5413f83c0d7d44aaa7406": {
     "views": []
    },
    "ae6e6640fd064c29b50e35da3b099555": {
     "views": []
    },
    "b2bb03a0666e4811906839fd786d9033": {
     "views": []
    },
    "b44d12787629452280cca136e17be7d8": {
     "views": []
    },
    "b869cf04af144b618e8228d3513dd089": {
     "views": []
    },
    "b939680629604c8d8cc38f2699c056b2": {
     "views": []
    },
    "baf2558e9f0b47048bfec14cf1224340": {
     "views": []
    },
    "befe4e6f5d6a4b25a9b3a0ce0b632b26": {
     "views": []
    },
    "c57f160fb0aa42fc9d36e98a55ed71ff": {
     "views": []
    },
    "c6ca63c795344a9abebc468669447861": {
     "views": []
    },
    "c8b865b0c0dd4425a05201a1d4c34680": {
     "views": []
    },
    "cc0fcf51b77d499ab6271749ab0fe123": {
     "views": []
    },
    "d171b4998379478b8eb3523f4e959be4": {
     "views": []
    },
    "d19d5c7ec2d940f89b918a877a6543e4": {
     "views": []
    },
    "d27c83d6b03747febfae78f6f915f064": {
     "views": []
    },
    "d424722080c94aa3aa9bca01aa68902b": {
     "views": []
    },
    "d715c90d46de4fd584c6f401ff08e0f7": {
     "views": [
      {
       "cell_index": 5
      }
     ]
    },
    "d76d8975efde47db84b20b2267ca00ae": {
     "views": []
    },
    "d848d230245d4448bc9e403ff68bb240": {
     "views": []
    },
    "dc3f04bfb63e434d972a8f61859ec8b6": {
     "views": []
    },
    "dcb19c53dcfe47d999b60a795b1572fd": {
     "views": []
    },
    "dd2e8fba53384b5287a1a3adeb35b194": {
     "views": []
    },
    "ddeb6e53f025465ba584978d9f340d58": {
     "views": []
    },
    "ddf191d704f644a8bd5627c0aa280a93": {
     "views": []
    },
    "de3b8ecda2834a93b98ab3b3639add3f": {
     "views": []
    },
    "e12c1177d3124d05bb20970568911b4b": {
     "views": []
    },
    "e489f802a0e143a1ae061832fb5c977f": {
     "views": []
    },
    "e4b2599763354c2aa067c3c2234e023f": {
     "views": []
    },
    "e563f798388e42afa204d9d5b6659ec4": {
     "views": []
    },
    "e8f5dc6bafd449c0b9a392ca52aecca6": {
     "views": []
    },
    "eacf090797a043c681061fc16af9b5eb": {
     "views": []
    },
    "ec4d9fae34094efda30b073d7bc4eae6": {
     "views": []
    },
    "ef83b45f39e2432f8e9519cd508d1b52": {
     "views": []
    },
    "f70d1579f65d4e11b185d3ff69a62b73": {
     "views": []
    },
    "f7107b4770ea44b798cb17b2bbe3b6a5": {
     "views": []
    },
    "fb9655012c614962be9c5a2548eaa198": {
     "views": []
    },
    "fd840cced8084f7ab4a3e901c79b415a": {
     "views": []
    },
    "ff84674b3c01465ea32c09664bc755dc": {
     "views": []
    }
   },
   "version": "1.1.2"
  }
 },
 "nbformat": 4,
 "nbformat_minor": 1
}
