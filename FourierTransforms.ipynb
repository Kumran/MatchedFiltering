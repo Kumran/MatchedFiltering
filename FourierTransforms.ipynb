{
 "metadata": {
  "name": "FourierTransforms"
 }, 
 "nbformat": 2, 
 "worksheets": [
  {
   "cells": [
    {
     "cell_type": "markdown", 
     "source": [
      "Run this cell first, to load the right things"
     ]
    }, 
    {
     "cell_type": "code", 
     "collapsed": true, 
     "input": [
      "cd ~/Research/Talks/REU2012/", 
      "import MatchedFiltering", 
      "import scipy.interpolate", 
      "import time"
     ], 
     "language": "python", 
     "outputs": []
    }, 
    {
     "cell_type": "markdown", 
     "source": [
      "Now, record some data"
     ]
    }, 
    {
     "cell_type": "code", 
     "collapsed": true, 
     "input": [
      "time.sleep(1) # wait 1 second before starting to record, to let things get quiet...", 
      "Data = MatchedFiltering.RecordWaveform(10) # Record for 10 seconds and save as 'Data'"
     ], 
     "language": "python", 
     "outputs": []
    }, 
    {
     "cell_type": "markdown", 
     "source": [
      "If you want to listen to it, run this cell:"
     ]
    }, 
    {
     "cell_type": "code", 
     "collapsed": true, 
     "input": [
      "Data.Play()"
     ], 
     "language": "python", 
     "outputs": []
    }, 
    {
     "cell_type": "markdown", 
     "source": [
      "Now, plot its Fourier transform (amplitude)"
     ]
    }, 
    {
     "cell_type": "code", 
     "collapsed": true, 
     "input": [
      "### Convert to frequency domain", 
      "DataFFT = Data.dt * np.fft.fft(Data.data) # Take the Fourier transform and save as 'DataFFT'", 
      "DataFrequencies = np.fft.fftfreq(Data.N, Data.dt) # Values of the f_i", 
      "", 
      "### Only plot some of the data, because python is slow at this job", 
      "PlotPoints = Data.N/2 # first half of the data (positive frequencies)", 
      "PlotEvery = 500 # every 500th point for speed", 
      "", 
      "### Now do the actual plotting:", 
      "semilogy(DataFrequencies[:PlotPoints:PlotEvery], abs(DataFFT[:PlotPoints:PlotEvery]));", 
      "xlabel(\"$f_i$ (measured in Hertz)\");", 
      "ylabel(\"$a_{f_i}$ (measured in arbitrary units)\");", 
      "title(\"Amplitude of the Fourier transform of Data\");"
     ], 
     "language": "python", 
     "outputs": []
    }
   ]
  }
 ]
}